{
  "nbformat": 4,
  "nbformat_minor": 0,
  "metadata": {
    "colab": {
      "provenance": [],
      "include_colab_link": true
    },
    "kernelspec": {
      "name": "python3",
      "display_name": "Python 3"
    },
    "language_info": {
      "name": "python"
    }
  },
  "cells": [
    {
      "cell_type": "markdown",
      "metadata": {
        "id": "view-in-github",
        "colab_type": "text"
      },
      "source": [
        "<a href=\"https://colab.research.google.com/github/DmitryBal/NumMethods2/blob/main/Copy_of_alex_lab1.ipynb\" target=\"_parent\"><img src=\"https://colab.research.google.com/assets/colab-badge.svg\" alt=\"Open In Colab\"/></a>"
      ]
    },
    {
      "cell_type": "code",
      "execution_count": null,
      "metadata": {
        "id": "w3OkHhWaH2rz"
      },
      "outputs": [],
      "source": [
        "import numpy as np\n",
        "from scipy.stats import skew, kurtosis, uniform, hypergeom, expon, laplace\n",
        "from scipy.special import erf\n",
        "import matplotlib.pyplot as plt\n",
        "import math \n",
        "import statistics \n",
        "\n",
        "np.set_printoptions(precision=5)"
      ]
    },
    {
      "cell_type": "code",
      "source": [
        "def print(*args):\n",
        "    __builtins__.print(*(\"%.5f\" % a if isinstance(a, float) else a\n",
        "                         for a in args))"
      ],
      "metadata": {
        "id": "L--xNNShjhVO"
      },
      "execution_count": null,
      "outputs": []
    },
    {
      "cell_type": "code",
      "source": [
        "def nws(l, arr):\n",
        "  n_i = [0]*(l+1)\n",
        "  w_i = [0]*(l+1)\n",
        "  s_i = [0]*(l+1)\n",
        "  for i in range(l+1):\n",
        "      veil = sum(map(lambda item: item == i, arr))\n",
        "      n_i[i] = veil\n",
        "      w_i[i] = veil / 200\n",
        "      s_i[i] = np.round(sum(w_i),5)\n",
        "  print('n = ', n_i)\n",
        "  print('w = ', w_i)    \n",
        "  print('s = ', s_i) \n",
        "  return w_i, s_i\n",
        "  "
      ],
      "metadata": {
        "id": "lZPCXI323GiJ"
      },
      "execution_count": null,
      "outputs": []
    },
    {
      "cell_type": "code",
      "source": [
        "name = 'dima'\n",
        "b = None\n",
        "geom = None\n",
        "po = None\n",
        "\n",
        "exp = None\n",
        "norm = None\n",
        "uni = None\n",
        "\n",
        "u = None\n",
        "h = None\n",
        "V = 0\n",
        "a_uni = None\n",
        "\n",
        "if name == 'dima':\n",
        "  b = np.load('dima_binom.npy')\n",
        "  geom = np.load('dima_geom.npy')\n",
        "  po = np.load('dima_poisson.npy')\n",
        "  u = np.load('dima_uniform.npy')\n",
        "  h = np.load('dima_hyper.npy')\n",
        "  norm = np.load('dima_norm.npy')\n",
        "  exp = np.load('dima_exp.npy')\n",
        "  uni = np.load('dima_uni.npy')\n",
        "  V = 40\n",
        "elif name == 'alex':\n",
        "  b = np.load('alex_binom.npy')\n",
        "  geom = np.load('alex_geom.npy')\n",
        "  po = np.load('alex_poisson.npy')\n",
        "  u = np.load('alex_uniform.npy')\n",
        "  h = np.load('alex_hyper.npy')\n",
        "  norm = np.load('alex_norm.npy')\n",
        "  exp = np.load('alex_exp.npy')\n",
        "  uni = np.load('alex_uni.npy')\n",
        "  V = 58\n",
        "else:\n",
        "  # name = input()\n",
        "  # V = int(input())\n",
        "  name = 'alex'\n",
        "  V = 58\n",
        "  n1 = 5 + V%19 \n",
        "  p = 0.2 + 0.005*V\n",
        "  q = 1 - p\n",
        "  lamda = 0.5 + 0.01*V\n",
        "  n4 = 5 + V%28\n",
        "  m = 5 + V%7\n",
        "  M = 2*m + 3\n",
        "  K = m + 1 + V%2\n",
        "  b = np.random.binomial(n1, p, size=200)\n",
        "  np.save(f\"{name}_binom.npy\", b)\n",
        "  geom = np.random.geometric(p, size=200)\n",
        "  geom-=1\n",
        "  np.save(f\"{name}_geom.npy\", geom)\n",
        "  po = np.random.poisson(lamda, size=200)\n",
        "  np.save(f'{name}_poisson.npy', po)\n",
        "  u = np.random.random_integers(0,n4-1,200)\n",
        "  np.save(f'{name}_uniform.npy', u)\n",
        "  h = hypergeom.rvs(M, K, m, size=200)\n",
        "  np.save(f'{name}_hyper.npy', h)\n",
        "\n",
        "  a_norm = (-1)**V * 0.05*V\n",
        "  sgm_norm = 0.005*V+1\n",
        "  norm = np.random.normal(loc=a_norm, scale=sgm_norm, size=200)\n",
        "  np.save(f'{name}_norm.npy', norm)\n",
        "  lmbd = 2+(-1)**V * 0.001*V\n",
        "  exp = expon.rvs(size=200, scale=1/(lmbd))\n",
        "  np.save(f'{name}_exp.npy', exp)\n",
        "  a_uni = (-1.0)**V*0.002*V\n",
        "  uni = uniform.rvs(size=200, loc=a_uni, scale=6)\n",
        "  np.save(f'{name}_uni.npy', uni)"
      ],
      "metadata": {
        "id": "L9Yd9F39ZfXp"
      },
      "execution_count": null,
      "outputs": []
    },
    {
      "cell_type": "code",
      "source": [
        "  n1 = 5 + V%19 \n",
        "  p = 0.2 + 0.005*V\n",
        "  q = 1 - p\n",
        "  lamda = 0.5 + 0.01*V\n",
        "  n4 = 5 + V%28\n",
        "  m = 5 + V%7\n",
        "  M = 2*m + 3\n",
        "  K = m + 1 + V%2\n",
        "  print(n1,p,lamda,n4,m,M,K)\n",
        "\n",
        "  a_norm = (-1)**V * 0.05*V\n",
        "  sgm_norm = 0.005*V+1\n",
        "  lmbd = 2+(-1)**V * 0.001*V\n",
        "  a_uni = (-1.0)**V*0.002*V\n",
        "\n",
        "  print(a_norm, sgm_norm)\n",
        "  print(lmbd)\n",
        "  print(a_uni, a_uni+6)"
      ],
      "metadata": {
        "colab": {
          "base_uri": "https://localhost:8080/"
        },
        "id": "F7KHhUBEzS8t",
        "outputId": "bb94e9e8-dc03-429f-a47f-12d805816532"
      },
      "execution_count": null,
      "outputs": [
        {
          "output_type": "stream",
          "name": "stdout",
          "text": [
            "7 0.40000 0.90000 17 10 23 11\n",
            "2.00000 1.20000\n",
            "2.04000\n",
            "0.08000 6.08000\n"
          ]
        }
      ]
    },
    {
      "cell_type": "code",
      "source": [
        "def find_part(dist):\n",
        "  d = np.var(dist)\n",
        "  return np.mean(dist), d, np.sqrt(d)"
      ],
      "metadata": {
        "id": "w7R3CKjVglY7"
      },
      "execution_count": null,
      "outputs": []
    },
    {
      "cell_type": "code",
      "source": [
        "# Найдет необходимые характеристики для заданной выборки\n",
        "def find(dist):\n",
        "  x , d, sigma = find_part(dist)\n",
        "  mode = statistics.mode(dist) #Мода\n",
        "  median = statistics.median(dist) #Медиана\n",
        "  asymmetry = skew(dist) #Коэффициент асимметрии\n",
        "  excess = kurtosis(dist) #Коэффициент эксцесса\n",
        "  return np.array([x, d,sigma,mode,median,asymmetry,excess])"
      ],
      "metadata": {
        "id": "j3V0Wz1EMDLn"
      },
      "execution_count": null,
      "outputs": []
    },
    {
      "cell_type": "code",
      "source": [
        "def find_binom(n,p,q):\n",
        "  x = n*p #Математическое ожидание \n",
        "  d = n*p*q #Дисперсия\n",
        "  sigma = np.sqrt(d) #Cреднее квадратическое отклонение\n",
        "  mode = (n+1)*p # Мода\n",
        "  if mode.is_integer():\n",
        "    mode-=0.5\n",
        "  median = round(n*p) #Медиана\n",
        "  asymmetry = (q-p)/sigma #Коэффициент асимметрии\n",
        "  excess = (1 - 6*p*q)/d #Коэффициент эксцесса\n",
        "  return np.array([x, d,sigma,mode,median,asymmetry,excess])"
      ],
      "metadata": {
        "id": "RKDUMjAPlDJq"
      },
      "execution_count": null,
      "outputs": []
    },
    {
      "cell_type": "code",
      "source": [
        "def find_geom(p,q):\n",
        "  x = q / p #Математическое ожидание \n",
        "  d = q / np.power(p,2)\n",
        "  sigma = np.sqrt(d) #Cреднее квадратическое отклонение\n",
        "  median = -math.log(2,q)  #Мода\n",
        "  if median.is_integer():\n",
        "    median-=0.5\n",
        "  asymmetry = (2-p)/np.sqrt(q) #Коэффициент асимметрии\n",
        "  excess = 6 + 1/d #Коэффициент эксцесса\n",
        "  return np.array([x, d,sigma,0,median,asymmetry,excess]) "
      ],
      "metadata": {
        "id": "cPuIqqCApigo"
      },
      "execution_count": null,
      "outputs": []
    },
    {
      "cell_type": "code",
      "source": [
        "def find_poisson(lamda):\n",
        "  excess = 1 / lamda #Коэффициент асимметрии\n",
        "  sigma = np.sqrt(lamda)\n",
        "  median = lamda + 1/3 + 0.02*excess #Медиана\n",
        "  asymmetry = 1 / sigma\n",
        "  return np.round(np.array([lamda, lamda,sigma,int(lamda),median,asymmetry,excess]), 5) "
      ],
      "metadata": {
        "id": "DLYMC3Xp3olz"
      },
      "execution_count": null,
      "outputs": []
    },
    {
      "cell_type": "code",
      "source": [
        "def find_uniform(n):\n",
        "  x = (n-1)/2\n",
        "  n_2 = np.power(n,2) - 1\n",
        "  d = n_2 / 12\n",
        "  sigma = np.sqrt(d)\n",
        "  excess = - (6/5)*(n_2+2)/n_2\n",
        "  return np.round(np.array([x, d,sigma,x,x,0,excess]), 5) "
      ],
      "metadata": {
        "id": "WhqdJfWa49O4"
      },
      "execution_count": null,
      "outputs": []
    },
    {
      "cell_type": "code",
      "source": [
        "def find_hypergeom(p_k,m,M,K,M_K):\n",
        "  x = m*K/M\n",
        "  M_m = M-m\n",
        "  M_1 = M-1\n",
        "  M_2 = M_1 - 1\n",
        "  M_2K = M - 2*K\n",
        "  M_2m = M - 2*m\n",
        "  M2 = np.power(M,2)\n",
        "  d = (x*M_K*M_m)/(M_1*M)\n",
        "  sigma = np.sqrt(d)\n",
        "  mode = int(((K+1)*(m+1))/(M+2))\n",
        "  median = 0\n",
        "  for i in range(m):\n",
        "    median+=p_k[i]\n",
        "    if median > 0.5:\n",
        "      median = i\n",
        "      break\n",
        "    if median == 0.5:\n",
        "      median = i + 0.5\n",
        "      break\n",
        "  asymmetry = np.sqrt(M_1/(m*K*M_K*M_m))*M_2K*M_2m /M_2\n",
        "  excess = M_1*M2*(M_2K*M_2m/(K*M_K) + 3*m*(M+6)*M_m/M2 - 6) / (m*M_2*(M_2-1)*M_m)\n",
        "  return np.array([x, d,sigma,mode,median,asymmetry,excess])"
      ],
      "metadata": {
        "id": "cWeS1032KVrh"
      },
      "execution_count": null,
      "outputs": []
    },
    {
      "cell_type": "code",
      "source": [
        "\"\"\"\n",
        "Принимает на вход 2 массива одинаковой длинны\n",
        "Возвращает массив отношений элементов, где все элементы взяты по модулю\n",
        "\"\"\"\n",
        "def comparison(arr_1,arr_2):\n",
        "  return np.round([np.absolute(i / j) for i, j in zip( arr_1, arr_2)],5)"
      ],
      "metadata": {
        "id": "Zrv0Cy0Ll8du"
      },
      "execution_count": null,
      "outputs": []
    },
    {
      "cell_type": "code",
      "source": [
        "\"\"\"\n",
        "Принимает на вход 2 массива одинаковой длиннв\n",
        "Возвращает разность массивов, все элементы взяты по модулю\n",
        "\"\"\"\n",
        "def division(arr_1,arr_2):\n",
        "   return np.round([np.absolute(i - j) for i, j in zip( arr_1, arr_2)],5)"
      ],
      "metadata": {
        "id": "BcBWwFJlXP16"
      },
      "execution_count": null,
      "outputs": []
    },
    {
      "cell_type": "code",
      "source": [
        "# График эмпиричекой функции\n",
        "def emp_func(l,arr):\n",
        "  plt.figure(figsize=(10,6))\n",
        "  for i in range(l):  \n",
        "    x = [i,i+1]\n",
        "    s = arr[i]\n",
        "    y = [s,s]\n",
        "    plt.plot(x,y,color = 'blue')\n",
        "  plt.yticks(np.arange(0,1.05, 0.05))\n",
        "  plt.xticks(np.arange(0,l,1))\n",
        "  plt.grid()\n",
        "  plt.show()"
      ],
      "metadata": {
        "id": "bnoPxFyPmtpR"
      },
      "execution_count": null,
      "outputs": []
    },
    {
      "cell_type": "code",
      "source": [
        "# График полигон\n",
        "def polygon(arr_1, arr_2,l):\n",
        "  mx = max(max(arr_1), max(arr_2))\n",
        "  plt.figure(figsize=(10,5))\n",
        "  plt.plot(arr_1,color = 'blue', label='Практические значения')\n",
        "  plt.plot(arr_2,color = \"red\", label='Теоретические значения')\n",
        "  plt.legend()\n",
        "  plt.ylabel(\"Относительная частота появления события.\")\n",
        "  plt.xticks(np.arange(0,l,1))\n",
        "  plt.yticks(np.arange(0,mx+0.05, 0.05))\n",
        "  plt.grid()\n",
        "  plt.show()"
      ],
      "metadata": {
        "id": "_zpYIHFvngH4"
      },
      "execution_count": null,
      "outputs": []
    },
    {
      "cell_type": "markdown",
      "source": [
        "# Задание 1"
      ],
      "metadata": {
        "id": "9SpaNmbdLqLN"
      }
    },
    {
      "cell_type": "code",
      "source": [
        "b"
      ],
      "metadata": {
        "id": "qU-UdbN-Tb7W",
        "colab": {
          "base_uri": "https://localhost:8080/"
        },
        "outputId": "3309f55e-e886-4250-c9bd-2f16788a0111"
      },
      "execution_count": null,
      "outputs": [
        {
          "output_type": "execute_result",
          "data": {
            "text/plain": [
              "array([2, 2, 3, 1, 2, 5, 4, 3, 2, 4, 0, 2, 4, 3, 3, 2, 1, 3, 2, 4, 4, 2,\n",
              "       4, 2, 1, 5, 3, 3, 3, 3, 2, 4, 5, 3, 4, 3, 3, 3, 3, 2, 2, 4, 3, 2,\n",
              "       3, 4, 4, 3, 4, 4, 1, 2, 3, 2, 3, 3, 3, 2, 1, 4, 4, 2, 3, 4, 3, 5,\n",
              "       3, 2, 2, 5, 3, 3, 3, 2, 4, 3, 3, 4, 3, 2, 2, 2, 1, 5, 1, 1, 3, 2,\n",
              "       4, 5, 5, 2, 1, 3, 3, 2, 3, 4, 3, 4, 1, 7, 1, 4, 2, 3, 2, 5, 5, 3,\n",
              "       3, 3, 4, 3, 4, 2, 3, 4, 6, 2, 2, 3, 3, 5, 3, 3, 1, 2, 1, 4, 3, 1,\n",
              "       2, 3, 3, 4, 3, 2, 4, 2, 4, 2, 2, 0, 3, 1, 1, 4, 2, 4, 4, 2, 4, 0,\n",
              "       4, 2, 5, 4, 3, 3, 3, 3, 3, 1, 0, 4, 1, 3, 1, 0, 3, 3, 1, 3, 4, 1,\n",
              "       2, 1, 4, 1, 1, 4, 2, 2, 3, 1, 0, 3, 4, 3, 2, 3, 6, 2, 3, 3, 2, 3,\n",
              "       2, 2])"
            ]
          },
          "metadata": {},
          "execution_count": 17
        }
      ]
    },
    {
      "cell_type": "code",
      "source": [
        "b.sort()\n",
        "b"
      ],
      "metadata": {
        "id": "NzCTG6fMKFit",
        "colab": {
          "base_uri": "https://localhost:8080/"
        },
        "outputId": "6b9381da-58e5-49e1-b8a8-ce6807748460"
      },
      "execution_count": null,
      "outputs": [
        {
          "output_type": "execute_result",
          "data": {
            "text/plain": [
              "array([0, 0, 0, 0, 0, 0, 1, 1, 1, 1, 1, 1, 1, 1, 1, 1, 1, 1, 1, 1, 1, 1,\n",
              "       1, 1, 1, 1, 1, 1, 1, 1, 1, 2, 2, 2, 2, 2, 2, 2, 2, 2, 2, 2, 2, 2,\n",
              "       2, 2, 2, 2, 2, 2, 2, 2, 2, 2, 2, 2, 2, 2, 2, 2, 2, 2, 2, 2, 2, 2,\n",
              "       2, 2, 2, 2, 2, 2, 2, 2, 2, 2, 2, 2, 2, 3, 3, 3, 3, 3, 3, 3, 3, 3,\n",
              "       3, 3, 3, 3, 3, 3, 3, 3, 3, 3, 3, 3, 3, 3, 3, 3, 3, 3, 3, 3, 3, 3,\n",
              "       3, 3, 3, 3, 3, 3, 3, 3, 3, 3, 3, 3, 3, 3, 3, 3, 3, 3, 3, 3, 3, 3,\n",
              "       3, 3, 3, 3, 3, 3, 3, 3, 3, 3, 3, 3, 3, 4, 4, 4, 4, 4, 4, 4, 4, 4,\n",
              "       4, 4, 4, 4, 4, 4, 4, 4, 4, 4, 4, 4, 4, 4, 4, 4, 4, 4, 4, 4, 4, 4,\n",
              "       4, 4, 4, 4, 4, 4, 4, 4, 4, 5, 5, 5, 5, 5, 5, 5, 5, 5, 5, 5, 5, 6,\n",
              "       6, 7])"
            ]
          },
          "metadata": {},
          "execution_count": 18
        }
      ]
    },
    {
      "cell_type": "markdown",
      "source": [
        "Статистический Ряд"
      ],
      "metadata": {
        "id": "sWPtiLPDDnLW"
      }
    },
    {
      "cell_type": "code",
      "source": [
        "w_1, s_1 = nws(n1,b)"
      ],
      "metadata": {
        "id": "YNvLEr0hifVN",
        "colab": {
          "base_uri": "https://localhost:8080/"
        },
        "outputId": "3a50ba8b-ee98-412a-ae71-1ca85d72b1e3"
      },
      "execution_count": null,
      "outputs": [
        {
          "output_type": "stream",
          "name": "stdout",
          "text": [
            "n =  [6, 25, 48, 66, 40, 12, 2, 1]\n",
            "w =  [0.03, 0.125, 0.24, 0.33, 0.2, 0.06, 0.01, 0.005]\n",
            "s =  [0.03, 0.155, 0.395, 0.725, 0.925, 0.985, 0.995, 1.0]\n"
          ]
        }
      ]
    },
    {
      "cell_type": "markdown",
      "source": [
        "Вероятности"
      ],
      "metadata": {
        "id": "ZFMZ6lCmDt7M"
      }
    },
    {
      "cell_type": "code",
      "source": [
        "p_k1 = [0]*(n1+1)\n",
        "for i in range(n1+1):\n",
        "  p_k1[i] = round(math.comb(n1, i)*np.power(p, i)*np.power(q,n1-i),5)\n",
        "print('p_k = ', p_k1) "
      ],
      "metadata": {
        "id": "bKd7KWD54MNV",
        "colab": {
          "base_uri": "https://localhost:8080/"
        },
        "outputId": "f6ce1181-4242-47d3-c8f6-c1e581fab24e"
      },
      "execution_count": null,
      "outputs": [
        {
          "output_type": "stream",
          "name": "stdout",
          "text": [
            "p_k =  [0.02799, 0.13064, 0.26127, 0.2903, 0.19354, 0.07741, 0.0172, 0.00164]\n"
          ]
        }
      ]
    },
    {
      "cell_type": "markdown",
      "source": [
        "Полигон относительных частот"
      ],
      "metadata": {
        "id": "dVnqjJMGD6oC"
      }
    },
    {
      "cell_type": "code",
      "source": [
        "polygon(w_1,p_k1,n1+1)"
      ],
      "metadata": {
        "id": "4xRNlrNRhedr",
        "colab": {
          "base_uri": "https://localhost:8080/",
          "height": 324
        },
        "outputId": "4c1a74a8-f671-4b6c-b558-01efd5cc3871"
      },
      "execution_count": null,
      "outputs": [
        {
          "output_type": "display_data",
          "data": {
            "text/plain": [
              "<Figure size 720x360 with 1 Axes>"
            ],
            "image/png": "[encoded data removed]"
          },
          "metadata": {
            "needs_background": "light"
          }
        }
      ]
    },
    {
      "cell_type": "markdown",
      "source": [
        "Эмпирическая функция"
      ],
      "metadata": {
        "id": "p8pkPZECD-cy"
      }
    },
    {
      "cell_type": "code",
      "source": [
        "emp_func(n1+1,s_1)"
      ],
      "metadata": {
        "id": "dpZaYPie9EA-",
        "colab": {
          "base_uri": "https://localhost:8080/",
          "height": 374
        },
        "outputId": "9d449a1e-6ff3-4a7f-8aa4-86db86742f3e"
      },
      "execution_count": null,
      "outputs": [
        {
          "output_type": "display_data",
          "data": {
            "text/plain": [
              "<Figure size 720x432 with 1 Axes>"
            ],
            "image/png": "[encoded data removed]"
          },
          "metadata": {
            "needs_background": "light"
          }
        }
      ]
    },
    {
      "cell_type": "code",
      "source": [
        "practic = find(b)\n",
        "practic"
      ],
      "metadata": {
        "id": "FUSZcT2Nlioo",
        "colab": {
          "base_uri": "https://localhost:8080/"
        },
        "outputId": "722edd61-6994-41f8-e93d-d0359365b23d"
      },
      "execution_count": null,
      "outputs": [
        {
          "output_type": "execute_result",
          "data": {
            "text/plain": [
              "array([2.79   , 1.5759 , 1.25535, 3.     , 3.     , 0.11226, 0.09553])"
            ]
          },
          "metadata": {},
          "execution_count": 23
        }
      ]
    },
    {
      "cell_type": "code",
      "source": [
        "theory = find_binom(n1,p,q)\n",
        "theory"
      ],
      "metadata": {
        "id": "A1YPzH9aVloW",
        "colab": {
          "base_uri": "https://localhost:8080/"
        },
        "outputId": "7684790f-c45a-497c-e830-d18ba061fb84"
      },
      "execution_count": null,
      "outputs": [
        {
          "output_type": "execute_result",
          "data": {
            "text/plain": [
              "array([ 2.8    ,  1.68   ,  1.29615,  3.2    ,  3.     ,  0.1543 ,\n",
              "       -0.2619 ])"
            ]
          },
          "metadata": {},
          "execution_count": 24
        }
      ]
    },
    {
      "cell_type": "code",
      "source": [
        "abs = division(theory,practic)\n",
        "abs"
      ],
      "metadata": {
        "id": "npzeVT5hWy5R",
        "colab": {
          "base_uri": "https://localhost:8080/"
        },
        "outputId": "f5271b21-03eb-429d-c9fa-d20a55dd0e8c"
      },
      "execution_count": null,
      "outputs": [
        {
          "output_type": "execute_result",
          "data": {
            "text/plain": [
              "array([0.01   , 0.1041 , 0.0408 , 0.2    , 0.     , 0.04205, 0.35743])"
            ]
          },
          "metadata": {},
          "execution_count": 25
        }
      ]
    },
    {
      "cell_type": "code",
      "source": [
        "rel = comparison(abs,theory)\n",
        "rel"
      ],
      "metadata": {
        "id": "71yw4_ZzXXHd",
        "colab": {
          "base_uri": "https://localhost:8080/"
        },
        "outputId": "c83fd563-5a72-47d5-e486-3f573084f05e"
      },
      "execution_count": null,
      "outputs": [
        {
          "output_type": "execute_result",
          "data": {
            "text/plain": [
              "array([0.00357, 0.06196, 0.03148, 0.0625 , 0.     , 0.27252, 1.36473])"
            ]
          },
          "metadata": {},
          "execution_count": 26
        }
      ]
    },
    {
      "cell_type": "markdown",
      "source": [
        "Cравнения относительных частот и теоретических вероятностей"
      ],
      "metadata": {
        "id": "SwBLFhQJcUqR"
      }
    },
    {
      "cell_type": "code",
      "source": [
        "w_p = division(w_1,p_k1)\n",
        "w_p"
      ],
      "metadata": {
        "id": "nA178D7Pawg5",
        "colab": {
          "base_uri": "https://localhost:8080/"
        },
        "outputId": "ea3a5c49-4fa3-4625-da56-78a0786d445a"
      },
      "execution_count": null,
      "outputs": [
        {
          "output_type": "execute_result",
          "data": {
            "text/plain": [
              "array([0.00201, 0.00564, 0.02127, 0.0397 , 0.00646, 0.01741, 0.0072 ,\n",
              "       0.00336])"
            ]
          },
          "metadata": {},
          "execution_count": 27
        }
      ]
    },
    {
      "cell_type": "markdown",
      "source": [
        "#Задание 2"
      ],
      "metadata": {
        "id": "_VHJm7ZgLugS"
      }
    },
    {
      "cell_type": "code",
      "source": [
        "geom"
      ],
      "metadata": {
        "id": "GRRMIEOxTgOd",
        "colab": {
          "base_uri": "https://localhost:8080/"
        },
        "outputId": "286319e6-7038-4e67-b6a1-7e6f5aeaf05d"
      },
      "execution_count": null,
      "outputs": [
        {
          "output_type": "execute_result",
          "data": {
            "text/plain": [
              "array([ 0,  1,  1,  0,  3,  1,  2,  1,  0,  0,  0,  1,  0,  1,  1,  2,  4,\n",
              "        0,  7,  1,  0,  0,  0,  3,  3,  0,  0,  0,  0,  3,  4,  1,  2,  1,\n",
              "        0,  0,  0,  6,  0,  4,  3,  0,  1,  0,  0,  1,  2,  1,  1,  1,  1,\n",
              "        0,  0,  1,  1,  0,  1,  4,  0,  2,  2,  1,  0,  3,  3,  1,  6,  0,\n",
              "        5,  0,  0,  0,  4,  1,  1,  2,  1,  2,  0,  2,  0,  1,  0,  2,  1,\n",
              "        0,  1,  3,  0,  0,  0,  7,  0,  3,  0,  0,  2,  1, 11,  2,  0,  0,\n",
              "        0,  0,  4,  0,  0,  1,  5,  2,  0,  3,  1,  0,  0,  0,  0,  1,  0,\n",
              "        2,  1,  0,  0,  3,  2,  1,  4,  2,  4,  4,  0,  0,  5,  0,  2,  0,\n",
              "        3,  5,  0,  2,  2,  1,  0,  0,  3,  1,  3,  0,  4,  0,  0,  1,  0,\n",
              "        1,  0,  0,  2,  0,  4,  1,  0,  1,  0,  0,  0,  3,  2,  0,  0,  1,\n",
              "        2,  4,  3,  2,  0,  5,  0,  9,  1,  3,  2,  0,  3,  0,  0,  5,  1,\n",
              "        1,  1,  1,  2,  7,  0,  7,  6,  6,  2,  0,  1,  1])"
            ]
          },
          "metadata": {},
          "execution_count": 28
        }
      ]
    },
    {
      "cell_type": "code",
      "source": [
        "geom.sort()\n",
        "geom"
      ],
      "metadata": {
        "id": "adf_AQr1Gg7I",
        "colab": {
          "base_uri": "https://localhost:8080/"
        },
        "outputId": "9fabaa91-1417-4d3b-8747-a53b29ba0352"
      },
      "execution_count": null,
      "outputs": [
        {
          "output_type": "execute_result",
          "data": {
            "text/plain": [
              "array([ 0,  0,  0,  0,  0,  0,  0,  0,  0,  0,  0,  0,  0,  0,  0,  0,  0,\n",
              "        0,  0,  0,  0,  0,  0,  0,  0,  0,  0,  0,  0,  0,  0,  0,  0,  0,\n",
              "        0,  0,  0,  0,  0,  0,  0,  0,  0,  0,  0,  0,  0,  0,  0,  0,  0,\n",
              "        0,  0,  0,  0,  0,  0,  0,  0,  0,  0,  0,  0,  0,  0,  0,  0,  0,\n",
              "        0,  0,  0,  0,  0,  0,  0,  0,  0,  0,  0,  0,  0,  1,  1,  1,  1,\n",
              "        1,  1,  1,  1,  1,  1,  1,  1,  1,  1,  1,  1,  1,  1,  1,  1,  1,\n",
              "        1,  1,  1,  1,  1,  1,  1,  1,  1,  1,  1,  1,  1,  1,  1,  1,  1,\n",
              "        1,  1,  1,  1,  1,  1,  1,  1,  1,  2,  2,  2,  2,  2,  2,  2,  2,\n",
              "        2,  2,  2,  2,  2,  2,  2,  2,  2,  2,  2,  2,  2,  2,  2,  2,  2,\n",
              "        2,  3,  3,  3,  3,  3,  3,  3,  3,  3,  3,  3,  3,  3,  3,  3,  3,\n",
              "        3,  3,  4,  4,  4,  4,  4,  4,  4,  4,  4,  4,  4,  4,  5,  5,  5,\n",
              "        5,  5,  5,  6,  6,  6,  6,  7,  7,  7,  7,  9, 11])"
            ]
          },
          "metadata": {},
          "execution_count": 29
        }
      ]
    },
    {
      "cell_type": "code",
      "source": [
        "_len2 = max(geom)"
      ],
      "metadata": {
        "id": "IBT6Y_QJ8hdO"
      },
      "execution_count": null,
      "outputs": []
    },
    {
      "cell_type": "code",
      "source": [
        "w_2, s_2 = nws(_len2,geom)"
      ],
      "metadata": {
        "id": "ztohGad9XZA2",
        "colab": {
          "base_uri": "https://localhost:8080/"
        },
        "outputId": "0f1bd2f1-9a2a-4af2-90ce-878edfa1b3e1"
      },
      "execution_count": null,
      "outputs": [
        {
          "output_type": "stream",
          "name": "stdout",
          "text": [
            "n =  [81, 47, 26, 18, 12, 6, 4, 4, 0, 1, 0, 1]\n",
            "w =  [0.405, 0.235, 0.13, 0.09, 0.06, 0.03, 0.02, 0.02, 0.0, 0.005, 0.0, 0.005]\n",
            "s =  [0.405, 0.64, 0.77, 0.86, 0.92, 0.95, 0.97, 0.99, 0.99, 0.995, 0.995, 1.0]\n"
          ]
        }
      ]
    },
    {
      "cell_type": "code",
      "source": [
        "p_k2 = [0]*(_len2+1)\n",
        "for i in range(_len2+1):\n",
        "  p_k2[i] = round(p*np.power(q,i),5)\n",
        "print('p_k = ', p_k2) "
      ],
      "metadata": {
        "id": "Dy-nRkSbYFPU",
        "colab": {
          "base_uri": "https://localhost:8080/"
        },
        "outputId": "7c5e755d-4d94-4b50-b508-cbe486076756"
      },
      "execution_count": null,
      "outputs": [
        {
          "output_type": "stream",
          "name": "stdout",
          "text": [
            "p_k =  [0.4, 0.24, 0.144, 0.0864, 0.05184, 0.0311, 0.01866, 0.0112, 0.00672, 0.00403, 0.00242, 0.00145]\n"
          ]
        }
      ]
    },
    {
      "cell_type": "code",
      "source": [
        "polygon(w_2,p_k2,_len2+1)"
      ],
      "metadata": {
        "id": "InllNA_Yabcx",
        "colab": {
          "base_uri": "https://localhost:8080/",
          "height": 324
        },
        "outputId": "bfb09238-89ab-4823-9327-28172ec6ee98"
      },
      "execution_count": null,
      "outputs": [
        {
          "output_type": "display_data",
          "data": {
            "text/plain": [
              "<Figure size 720x360 with 1 Axes>"
            ],
            "image/png": "[encoded data removed]"
          },
          "metadata": {
            "needs_background": "light"
          }
        }
      ]
    },
    {
      "cell_type": "code",
      "source": [
        "emp_func(_len2+1,s_2)"
      ],
      "metadata": {
        "id": "xj6uGO1PafwJ",
        "colab": {
          "base_uri": "https://localhost:8080/",
          "height": 374
        },
        "outputId": "0802baa3-b887-4f77-becb-60615d3672b0"
      },
      "execution_count": null,
      "outputs": [
        {
          "output_type": "display_data",
          "data": {
            "text/plain": [
              "<Figure size 720x432 with 1 Axes>"
            ],
            "image/png": "[encoded data removed]"
          },
          "metadata": {
            "needs_background": "light"
          }
        }
      ]
    },
    {
      "cell_type": "code",
      "source": [
        "practic = find(geom)\n",
        "practic"
      ],
      "metadata": {
        "id": "PtOADYHIak-2",
        "colab": {
          "base_uri": "https://localhost:8080/"
        },
        "outputId": "9cec2f71-823b-45b7-f4aa-45422422381b"
      },
      "execution_count": null,
      "outputs": [
        {
          "output_type": "execute_result",
          "data": {
            "text/plain": [
              "array([1.515  , 3.68977, 1.92088, 0.     , 1.     , 1.76755, 3.73299])"
            ]
          },
          "metadata": {},
          "execution_count": 35
        }
      ]
    },
    {
      "cell_type": "code",
      "source": [
        "theory = find_geom(p,q)\n",
        "theory"
      ],
      "metadata": {
        "id": "w3_JuKcqapUu",
        "colab": {
          "base_uri": "https://localhost:8080/"
        },
        "outputId": "7d73f470-38c2-485a-e592-23d9c087445a"
      },
      "execution_count": null,
      "outputs": [
        {
          "output_type": "execute_result",
          "data": {
            "text/plain": [
              "array([1.5    , 3.75   , 1.93649, 0.     , 1.35692, 2.06559, 6.26667])"
            ]
          },
          "metadata": {},
          "execution_count": 36
        }
      ]
    },
    {
      "cell_type": "code",
      "source": [
        "abs = division(theory,practic)\n",
        "abs"
      ],
      "metadata": {
        "id": "toYqsfCOarit",
        "colab": {
          "base_uri": "https://localhost:8080/"
        },
        "outputId": "a309c120-196b-48ba-ac9d-494984f2cc6e"
      },
      "execution_count": null,
      "outputs": [
        {
          "output_type": "execute_result",
          "data": {
            "text/plain": [
              "array([0.015  , 0.06022, 0.01561, 0.     , 0.35692, 0.29804, 2.53368])"
            ]
          },
          "metadata": {},
          "execution_count": 37
        }
      ]
    },
    {
      "cell_type": "code",
      "source": [
        "rel = comparison(abs,theory)\n",
        "rel"
      ],
      "metadata": {
        "id": "CREqszIMatpn",
        "colab": {
          "base_uri": "https://localhost:8080/"
        },
        "outputId": "0819538d-a469-4522-acbf-9796d5b5518c"
      },
      "execution_count": null,
      "outputs": [
        {
          "output_type": "stream",
          "name": "stderr",
          "text": [
            "<ipython-input-13-3eee365a1ee5>:6: RuntimeWarning: invalid value encountered in double_scalars\n",
            "  return np.round([np.absolute(i / j) for i, j in zip( arr_1, arr_2)],5)\n"
          ]
        },
        {
          "output_type": "execute_result",
          "data": {
            "text/plain": [
              "array([0.01   , 0.01606, 0.00806,     nan, 0.26304, 0.14429, 0.40431])"
            ]
          },
          "metadata": {},
          "execution_count": 38
        }
      ]
    },
    {
      "cell_type": "code",
      "source": [
        "w_p = division(w_2,p_k2)\n",
        "w_p"
      ],
      "metadata": {
        "id": "ThKFLI9battF",
        "colab": {
          "base_uri": "https://localhost:8080/"
        },
        "outputId": "200f6aba-a5fa-48fc-fade-82e85baa13e7"
      },
      "execution_count": null,
      "outputs": [
        {
          "output_type": "execute_result",
          "data": {
            "text/plain": [
              "array([0.005  , 0.005  , 0.014  , 0.0036 , 0.00816, 0.0011 , 0.00134,\n",
              "       0.0088 , 0.00672, 0.00097, 0.00242, 0.00355])"
            ]
          },
          "metadata": {},
          "execution_count": 39
        }
      ]
    },
    {
      "cell_type": "markdown",
      "source": [
        "#Задание 3"
      ],
      "metadata": {
        "id": "jSZJ0VuhNVxC"
      }
    },
    {
      "cell_type": "code",
      "source": [
        "po"
      ],
      "metadata": {
        "id": "IBb9TpT0Tv5m",
        "colab": {
          "base_uri": "https://localhost:8080/"
        },
        "outputId": "bac41355-fbac-46e1-8ef8-aeead845d674"
      },
      "execution_count": null,
      "outputs": [
        {
          "output_type": "execute_result",
          "data": {
            "text/plain": [
              "array([5, 2, 0, 1, 0, 2, 0, 1, 2, 1, 1, 0, 2, 1, 1, 1, 2, 0, 0, 1, 0, 1,\n",
              "       2, 1, 0, 1, 0, 0, 1, 2, 0, 1, 0, 0, 2, 0, 1, 2, 0, 1, 0, 2, 0, 0,\n",
              "       0, 0, 0, 2, 2, 2, 0, 2, 3, 1, 2, 0, 2, 1, 0, 0, 1, 1, 2, 0, 2, 0,\n",
              "       1, 1, 1, 1, 1, 1, 0, 0, 0, 0, 0, 0, 0, 2, 0, 0, 0, 1, 2, 1, 0, 1,\n",
              "       0, 0, 1, 1, 1, 3, 1, 0, 0, 1, 0, 1, 0, 0, 1, 1, 1, 1, 1, 0, 0, 1,\n",
              "       2, 1, 2, 1, 2, 1, 0, 1, 1, 1, 0, 2, 0, 2, 3, 3, 0, 0, 0, 0, 0, 0,\n",
              "       2, 1, 0, 0, 1, 1, 2, 1, 0, 1, 1, 1, 2, 0, 1, 2, 0, 0, 0, 0, 0, 0,\n",
              "       0, 0, 0, 0, 2, 0, 0, 2, 1, 0, 1, 0, 2, 0, 0, 2, 0, 1, 2, 0, 1, 0,\n",
              "       1, 1, 0, 3, 1, 1, 1, 2, 1, 1, 0, 1, 1, 1, 0, 1, 1, 0, 2, 2, 0, 3,\n",
              "       1, 1])"
            ]
          },
          "metadata": {},
          "execution_count": 40
        }
      ]
    },
    {
      "cell_type": "code",
      "source": [
        "po.sort()\n",
        "po"
      ],
      "metadata": {
        "id": "bVcsopkyNkF5",
        "colab": {
          "base_uri": "https://localhost:8080/"
        },
        "outputId": "31e6d939-8bec-4ffe-abb0-fa2387b9f4ea"
      },
      "execution_count": null,
      "outputs": [
        {
          "output_type": "execute_result",
          "data": {
            "text/plain": [
              "array([0, 0, 0, 0, 0, 0, 0, 0, 0, 0, 0, 0, 0, 0, 0, 0, 0, 0, 0, 0, 0, 0,\n",
              "       0, 0, 0, 0, 0, 0, 0, 0, 0, 0, 0, 0, 0, 0, 0, 0, 0, 0, 0, 0, 0, 0,\n",
              "       0, 0, 0, 0, 0, 0, 0, 0, 0, 0, 0, 0, 0, 0, 0, 0, 0, 0, 0, 0, 0, 0,\n",
              "       0, 0, 0, 0, 0, 0, 0, 0, 0, 0, 0, 0, 0, 0, 0, 0, 0, 0, 1, 1, 1, 1,\n",
              "       1, 1, 1, 1, 1, 1, 1, 1, 1, 1, 1, 1, 1, 1, 1, 1, 1, 1, 1, 1, 1, 1,\n",
              "       1, 1, 1, 1, 1, 1, 1, 1, 1, 1, 1, 1, 1, 1, 1, 1, 1, 1, 1, 1, 1, 1,\n",
              "       1, 1, 1, 1, 1, 1, 1, 1, 1, 1, 1, 1, 1, 1, 1, 1, 1, 1, 1, 1, 1, 1,\n",
              "       1, 1, 2, 2, 2, 2, 2, 2, 2, 2, 2, 2, 2, 2, 2, 2, 2, 2, 2, 2, 2, 2,\n",
              "       2, 2, 2, 2, 2, 2, 2, 2, 2, 2, 2, 2, 2, 2, 2, 2, 2, 3, 3, 3, 3, 3,\n",
              "       3, 5])"
            ]
          },
          "metadata": {},
          "execution_count": 41
        }
      ]
    },
    {
      "cell_type": "code",
      "source": [
        "_len3 = max(po)"
      ],
      "metadata": {
        "id": "p40xnpE8UF31"
      },
      "execution_count": null,
      "outputs": []
    },
    {
      "cell_type": "code",
      "source": [
        "w_3, s_3 = nws(_len3,po)"
      ],
      "metadata": {
        "id": "7bZatdoMTqmg",
        "colab": {
          "base_uri": "https://localhost:8080/"
        },
        "outputId": "38ac1fa1-4758-4634-c271-9fb7f7c3c861"
      },
      "execution_count": null,
      "outputs": [
        {
          "output_type": "stream",
          "name": "stdout",
          "text": [
            "n =  [84, 72, 37, 6, 0, 1]\n",
            "w =  [0.42, 0.36, 0.185, 0.03, 0.0, 0.005]\n",
            "s =  [0.42, 0.78, 0.965, 0.995, 0.995, 1.0]\n"
          ]
        }
      ]
    },
    {
      "cell_type": "code",
      "source": [
        "p_k3 = [0]*(_len3+1)\n",
        "fact = 1\n",
        "e_lamda = np.exp(-lamda)\n",
        "for i in range(_len3+1):\n",
        "  if i!=0:\n",
        "    fact*=i\n",
        "  p_k3[i] = np.round((np.power(lamda,i)*e_lamda)/fact,5)\n",
        "print('p_k = ', p_k3) "
      ],
      "metadata": {
        "id": "DAIEyaWjTq2A",
        "colab": {
          "base_uri": "https://localhost:8080/"
        },
        "outputId": "a0fa7d63-2ec5-4632-f1cf-0663e9e309d3"
      },
      "execution_count": null,
      "outputs": [
        {
          "output_type": "stream",
          "name": "stdout",
          "text": [
            "p_k =  [0.40657, 0.36591, 0.16466, 0.0494, 0.01111, 0.002]\n"
          ]
        }
      ]
    },
    {
      "cell_type": "code",
      "source": [
        "polygon(w_3,p_k3,_len3+1)"
      ],
      "metadata": {
        "id": "CodoF6yYTq9L",
        "colab": {
          "base_uri": "https://localhost:8080/",
          "height": 324
        },
        "outputId": "1f89dbc0-5fdf-45c8-d9b1-fdefb9ff1677"
      },
      "execution_count": null,
      "outputs": [
        {
          "output_type": "display_data",
          "data": {
            "text/plain": [
              "<Figure size 720x360 with 1 Axes>"
            ],
            "image/png": "[encoded data removed]"
          },
          "metadata": {
            "needs_background": "light"
          }
        }
      ]
    },
    {
      "cell_type": "code",
      "source": [
        "emp_func(_len3+1,s_3)"
      ],
      "metadata": {
        "id": "6q3z1misTrqc",
        "colab": {
          "base_uri": "https://localhost:8080/",
          "height": 374
        },
        "outputId": "9b0b9a61-2063-4e26-fb68-b4ed01027128"
      },
      "execution_count": null,
      "outputs": [
        {
          "output_type": "display_data",
          "data": {
            "text/plain": [
              "<Figure size 720x432 with 1 Axes>"
            ],
            "image/png": "[encoded data removed]"
          },
          "metadata": {
            "needs_background": "light"
          }
        }
      ]
    },
    {
      "cell_type": "code",
      "source": [
        "practic = find(po)\n",
        "practic"
      ],
      "metadata": {
        "id": "OICQ8N-1TsBm",
        "colab": {
          "base_uri": "https://localhost:8080/"
        },
        "outputId": "52c2765f-5228-4bdc-a94f-2fa13df12111"
      },
      "execution_count": null,
      "outputs": [
        {
          "output_type": "execute_result",
          "data": {
            "text/plain": [
              "array([0.845  , 0.78097, 0.88373, 0.     , 1.     , 1.00247, 1.39533])"
            ]
          },
          "metadata": {},
          "execution_count": 47
        }
      ]
    },
    {
      "cell_type": "code",
      "source": [
        "theory = find_poisson(lamda)\n",
        "theory"
      ],
      "metadata": {
        "id": "9eUTVBD5T90b",
        "colab": {
          "base_uri": "https://localhost:8080/"
        },
        "outputId": "4f8a584a-5add-404b-dbdc-8c8f62fa96fb"
      },
      "execution_count": null,
      "outputs": [
        {
          "output_type": "execute_result",
          "data": {
            "text/plain": [
              "array([0.9    , 0.9    , 0.94868, 0.     , 1.25556, 1.05409, 1.11111])"
            ]
          },
          "metadata": {},
          "execution_count": 48
        }
      ]
    },
    {
      "cell_type": "code",
      "source": [
        "abs = division(theory,practic)\n",
        "abs"
      ],
      "metadata": {
        "id": "YdouXCWwUAXu",
        "colab": {
          "base_uri": "https://localhost:8080/"
        },
        "outputId": "86b3616d-402b-4d1d-9d4b-937b2f30f19d"
      },
      "execution_count": null,
      "outputs": [
        {
          "output_type": "execute_result",
          "data": {
            "text/plain": [
              "array([0.055  , 0.11903, 0.06495, 0.     , 0.25556, 0.05162, 0.28422])"
            ]
          },
          "metadata": {},
          "execution_count": 49
        }
      ]
    },
    {
      "cell_type": "code",
      "source": [
        "rel = comparison(abs,theory)\n",
        "rel"
      ],
      "metadata": {
        "id": "FVS9h_UjUCbR",
        "colab": {
          "base_uri": "https://localhost:8080/"
        },
        "outputId": "d1408b14-13c2-4c1f-d035-51cfe2d424b4"
      },
      "execution_count": null,
      "outputs": [
        {
          "output_type": "stream",
          "name": "stderr",
          "text": [
            "<ipython-input-13-3eee365a1ee5>:6: RuntimeWarning: invalid value encountered in double_scalars\n",
            "  return np.round([np.absolute(i / j) for i, j in zip( arr_1, arr_2)],5)\n"
          ]
        },
        {
          "output_type": "execute_result",
          "data": {
            "text/plain": [
              "array([0.06111, 0.13226, 0.06846,     nan, 0.20354, 0.04897, 0.2558 ])"
            ]
          },
          "metadata": {},
          "execution_count": 50
        }
      ]
    },
    {
      "cell_type": "code",
      "source": [
        "w_p = division(w_3,p_k3)\n",
        "w_p"
      ],
      "metadata": {
        "id": "nko_6U1fUEaF",
        "colab": {
          "base_uri": "https://localhost:8080/"
        },
        "outputId": "0cbff499-3081-4959-eec0-16b59e071dcc"
      },
      "execution_count": null,
      "outputs": [
        {
          "output_type": "execute_result",
          "data": {
            "text/plain": [
              "array([0.01343, 0.00591, 0.02034, 0.0194 , 0.01111, 0.003  ])"
            ]
          },
          "metadata": {},
          "execution_count": 51
        }
      ]
    },
    {
      "cell_type": "markdown",
      "source": [
        "#Задание 4"
      ],
      "metadata": {
        "id": "Nu_tRh_IN1uT"
      }
    },
    {
      "cell_type": "code",
      "source": [
        "u"
      ],
      "metadata": {
        "id": "iy09EmZ7OIeW",
        "colab": {
          "base_uri": "https://localhost:8080/"
        },
        "outputId": "8ebc63a6-0157-47b8-fc22-92b8f6efd078"
      },
      "execution_count": null,
      "outputs": [
        {
          "output_type": "execute_result",
          "data": {
            "text/plain": [
              "array([ 5,  7,  0, 11,  1,  9, 15, 14,  4, 16, 13,  3, 12,  2, 16, 14,  5,\n",
              "       15,  7, 13,  7, 16,  3,  0, 13, 15,  0,  8,  7, 14, 15,  5, 14,  3,\n",
              "       14, 11, 12,  9,  9, 16, 12,  1,  6,  8, 10, 16, 13,  2, 15,  9,  5,\n",
              "        2,  9, 16,  2,  6, 16, 16,  6, 14, 13, 11, 16, 12, 13, 11, 16, 13,\n",
              "       16, 16,  8,  4,  6,  2,  3, 15, 14, 10, 10,  2,  2,  6, 15,  2,  8,\n",
              "        6, 16,  7, 11, 13,  1,  4,  0,  6, 10, 15,  3,  0,  6,  0,  9, 12,\n",
              "       12,  8, 16,  7, 15,  1,  0,  4,  4,  5, 16, 13,  1,  3,  8,  3,  9,\n",
              "       11, 11, 15,  7,  8, 14,  8,  0, 16,  8,  8,  6,  1, 10,  0,  2,  4,\n",
              "       11,  9,  3,  2,  4,  9,  3,  8, 12,  1, 11,  4, 10,  4,  3,  0,  2,\n",
              "       14,  2,  7,  6, 10, 15,  3, 11,  8, 13, 16,  0,  7, 16,  8,  3, 11,\n",
              "        2, 13,  5,  3,  2,  1,  2,  8,  9, 16,  0,  3, 16, 16, 16,  9,  7,\n",
              "        3,  9,  3,  8, 13, 13,  9,  6,  7, 12, 15,  7,  8])"
            ]
          },
          "metadata": {},
          "execution_count": 52
        }
      ]
    },
    {
      "cell_type": "code",
      "source": [
        "u.sort()\n",
        "u"
      ],
      "metadata": {
        "id": "eaXRnV40WI8B",
        "colab": {
          "base_uri": "https://localhost:8080/"
        },
        "outputId": "d1da4df1-104d-4d53-cb2e-6fecfde2b635"
      },
      "execution_count": null,
      "outputs": [
        {
          "output_type": "execute_result",
          "data": {
            "text/plain": [
              "array([ 0,  0,  0,  0,  0,  0,  0,  0,  0,  0,  0,  0,  1,  1,  1,  1,  1,\n",
              "        1,  1,  1,  2,  2,  2,  2,  2,  2,  2,  2,  2,  2,  2,  2,  2,  2,\n",
              "        2,  3,  3,  3,  3,  3,  3,  3,  3,  3,  3,  3,  3,  3,  3,  3,  3,\n",
              "        4,  4,  4,  4,  4,  4,  4,  4,  4,  5,  5,  5,  5,  5,  5,  6,  6,\n",
              "        6,  6,  6,  6,  6,  6,  6,  6,  6,  7,  7,  7,  7,  7,  7,  7,  7,\n",
              "        7,  7,  7,  7,  8,  8,  8,  8,  8,  8,  8,  8,  8,  8,  8,  8,  8,\n",
              "        8,  8,  8,  9,  9,  9,  9,  9,  9,  9,  9,  9,  9,  9,  9,  9, 10,\n",
              "       10, 10, 10, 10, 10, 10, 11, 11, 11, 11, 11, 11, 11, 11, 11, 11, 11,\n",
              "       12, 12, 12, 12, 12, 12, 12, 12, 13, 13, 13, 13, 13, 13, 13, 13, 13,\n",
              "       13, 13, 13, 13, 14, 14, 14, 14, 14, 14, 14, 14, 14, 15, 15, 15, 15,\n",
              "       15, 15, 15, 15, 15, 15, 15, 15, 16, 16, 16, 16, 16, 16, 16, 16, 16,\n",
              "       16, 16, 16, 16, 16, 16, 16, 16, 16, 16, 16, 16, 16])"
            ]
          },
          "metadata": {},
          "execution_count": 53
        }
      ]
    },
    {
      "cell_type": "code",
      "source": [
        "w_4, s_4 = nws(n4-1,u)"
      ],
      "metadata": {
        "id": "Qy5A-tj2rB4r",
        "colab": {
          "base_uri": "https://localhost:8080/"
        },
        "outputId": "48ab644a-62a9-48a8-8019-1616ba81b5f0"
      },
      "execution_count": null,
      "outputs": [
        {
          "output_type": "stream",
          "name": "stdout",
          "text": [
            "n =  [12, 8, 15, 16, 9, 6, 11, 12, 16, 13, 7, 11, 8, 13, 9, 12, 22]\n",
            "w =  [0.06, 0.04, 0.075, 0.08, 0.045, 0.03, 0.055, 0.06, 0.08, 0.065, 0.035, 0.055, 0.04, 0.065, 0.045, 0.06, 0.11]\n",
            "s =  [0.06, 0.1, 0.175, 0.255, 0.3, 0.33, 0.385, 0.445, 0.525, 0.59, 0.625, 0.68, 0.72, 0.785, 0.83, 0.89, 1.0]\n"
          ]
        }
      ]
    },
    {
      "cell_type": "code",
      "source": [
        "p_k4 = [1 / n4]*n4\n",
        "print(p_k4[0])"
      ],
      "metadata": {
        "id": "DfL-5PGCrB8n",
        "colab": {
          "base_uri": "https://localhost:8080/"
        },
        "outputId": "0a3fa202-1164-4af6-cc64-342caa96b3f2"
      },
      "execution_count": null,
      "outputs": [
        {
          "output_type": "stream",
          "name": "stdout",
          "text": [
            "0.05882\n"
          ]
        }
      ]
    },
    {
      "cell_type": "code",
      "source": [
        "polygon(w_4,p_k4,n4)"
      ],
      "metadata": {
        "id": "LwmSogfSrCAL",
        "colab": {
          "base_uri": "https://localhost:8080/",
          "height": 324
        },
        "outputId": "1a875ada-65bd-44ca-d108-a73dedd83574"
      },
      "execution_count": null,
      "outputs": [
        {
          "output_type": "display_data",
          "data": {
            "text/plain": [
              "<Figure size 720x360 with 1 Axes>"
            ],
            "image/png": "[encoded data removed]"
          },
          "metadata": {
            "needs_background": "light"
          }
        }
      ]
    },
    {
      "cell_type": "code",
      "source": [
        "emp_func(n4,s_4)"
      ],
      "metadata": {
        "id": "q0i9lxPFYict",
        "colab": {
          "base_uri": "https://localhost:8080/",
          "height": 374
        },
        "outputId": "ac7bb2c8-567c-40cf-e4b2-1289c4985723"
      },
      "execution_count": null,
      "outputs": [
        {
          "output_type": "display_data",
          "data": {
            "text/plain": [
              "<Figure size 720x432 with 1 Axes>"
            ],
            "image/png": "[encoded data removed]"
          },
          "metadata": {
            "needs_background": "light"
          }
        }
      ]
    },
    {
      "cell_type": "code",
      "source": [
        "practic = find(u)\n",
        "practic"
      ],
      "metadata": {
        "id": "Gvxif99eYM7i",
        "colab": {
          "base_uri": "https://localhost:8080/"
        },
        "outputId": "839e756b-2fc4-45d7-c0a0-e1989b91846b"
      },
      "execution_count": null,
      "outputs": [
        {
          "output_type": "execute_result",
          "data": {
            "text/plain": [
              "array([ 8.30500e+00,  2.62420e+01,  5.12269e+00,  1.60000e+01,\n",
              "        8.00000e+00,  1.97293e-03, -1.26064e+00])"
            ]
          },
          "metadata": {},
          "execution_count": 58
        }
      ]
    },
    {
      "cell_type": "code",
      "source": [
        "theory = find_uniform(n4)\n",
        "theory"
      ],
      "metadata": {
        "id": "wbeJiO5JYi6r",
        "colab": {
          "base_uri": "https://localhost:8080/"
        },
        "outputId": "e66b6a2d-cfbd-4d8d-bccb-de1beb7959ee"
      },
      "execution_count": null,
      "outputs": [
        {
          "output_type": "execute_result",
          "data": {
            "text/plain": [
              "array([ 8.     , 24.     ,  4.89898,  8.     ,  8.     ,  0.     ,\n",
              "       -1.20833])"
            ]
          },
          "metadata": {},
          "execution_count": 59
        }
      ]
    },
    {
      "cell_type": "code",
      "source": [
        "abs = division(practic,theory)\n",
        "abs"
      ],
      "metadata": {
        "id": "lj3RqlYmYi9U",
        "colab": {
          "base_uri": "https://localhost:8080/"
        },
        "outputId": "5d5a6304-dce0-4729-96be-8f1ab5de8d00"
      },
      "execution_count": null,
      "outputs": [
        {
          "output_type": "execute_result",
          "data": {
            "text/plain": [
              "array([3.05000e-01, 2.24198e+00, 2.23710e-01, 8.00000e+00, 0.00000e+00,\n",
              "       1.97000e-03, 5.23100e-02])"
            ]
          },
          "metadata": {},
          "execution_count": 60
        }
      ]
    },
    {
      "cell_type": "code",
      "source": [
        "rel = comparison(abs,theory)\n",
        "rel"
      ],
      "metadata": {
        "id": "rz95X1rWYjAF",
        "colab": {
          "base_uri": "https://localhost:8080/"
        },
        "outputId": "2e0c79c6-8451-42b5-b7f2-7c4676ca3df6"
      },
      "execution_count": null,
      "outputs": [
        {
          "output_type": "stream",
          "name": "stderr",
          "text": [
            "<ipython-input-13-3eee365a1ee5>:6: RuntimeWarning: divide by zero encountered in double_scalars\n",
            "  return np.round([np.absolute(i / j) for i, j in zip( arr_1, arr_2)],5)\n"
          ]
        },
        {
          "output_type": "execute_result",
          "data": {
            "text/plain": [
              "array([0.03812, 0.09342, 0.04566, 1.     , 0.     ,     inf, 0.04329])"
            ]
          },
          "metadata": {},
          "execution_count": 61
        }
      ]
    },
    {
      "cell_type": "code",
      "source": [
        "w_p = division(w_4,p_k4)\n",
        "w_p"
      ],
      "metadata": {
        "id": "rhzs889BYjDc",
        "colab": {
          "base_uri": "https://localhost:8080/"
        },
        "outputId": "e65b274c-2e3a-42de-9226-c1a462fb8679"
      },
      "execution_count": null,
      "outputs": [
        {
          "output_type": "execute_result",
          "data": {
            "text/plain": [
              "array([0.00118, 0.01882, 0.01618, 0.02118, 0.01382, 0.02882, 0.00382,\n",
              "       0.00118, 0.02118, 0.00618, 0.02382, 0.00382, 0.01882, 0.00618,\n",
              "       0.01382, 0.00118, 0.05118])"
            ]
          },
          "metadata": {},
          "execution_count": 62
        }
      ]
    },
    {
      "cell_type": "markdown",
      "source": [
        "#Задание 5"
      ],
      "metadata": {
        "id": "PsP7s0GmOrsV"
      }
    },
    {
      "cell_type": "code",
      "source": [
        "h"
      ],
      "metadata": {
        "id": "g-OXcepKUGZf",
        "colab": {
          "base_uri": "https://localhost:8080/"
        },
        "outputId": "863e1e9b-46d4-4fef-fe0d-23f77665a683"
      },
      "execution_count": null,
      "outputs": [
        {
          "output_type": "execute_result",
          "data": {
            "text/plain": [
              "array([4, 6, 5, 7, 7, 3, 7, 4, 2, 6, 3, 5, 8, 4, 5, 6, 7, 4, 5, 7, 4, 4,\n",
              "       6, 5, 4, 4, 3, 5, 5, 3, 4, 7, 1, 6, 5, 5, 6, 7, 3, 5, 5, 4, 4, 4,\n",
              "       6, 4, 4, 6, 5, 3, 5, 3, 4, 4, 7, 5, 6, 6, 4, 4, 6, 5, 3, 4, 4, 3,\n",
              "       4, 6, 5, 4, 6, 4, 2, 7, 3, 5, 3, 6, 6, 4, 3, 5, 5, 4, 6, 3, 3, 6,\n",
              "       7, 7, 5, 8, 5, 5, 5, 1, 5, 4, 4, 6, 7, 4, 6, 6, 2, 4, 3, 5, 6, 4,\n",
              "       5, 5, 3, 4, 4, 6, 4, 2, 4, 6, 4, 5, 6, 4, 6, 5, 4, 4, 5, 4, 5, 5,\n",
              "       6, 2, 4, 5, 6, 5, 5, 5, 4, 6, 4, 5, 4, 7, 4, 3, 6, 6, 4, 4, 5, 6,\n",
              "       5, 4, 4, 8, 4, 5, 4, 5, 5, 4, 5, 4, 4, 5, 5, 6, 4, 2, 4, 5, 5, 7,\n",
              "       5, 5, 4, 6, 3, 4, 6, 4, 5, 6, 6, 5, 6, 4, 5, 5, 4, 8, 3, 5, 5, 6,\n",
              "       6, 6])"
            ]
          },
          "metadata": {},
          "execution_count": 63
        }
      ]
    },
    {
      "cell_type": "code",
      "source": [
        "h.sort()\n",
        "h"
      ],
      "metadata": {
        "id": "KxUtAR7ZdLIF",
        "colab": {
          "base_uri": "https://localhost:8080/"
        },
        "outputId": "306965f5-0ae8-4eb4-e70b-f5fcd3e82ce1"
      },
      "execution_count": null,
      "outputs": [
        {
          "output_type": "execute_result",
          "data": {
            "text/plain": [
              "array([1, 1, 2, 2, 2, 2, 2, 2, 3, 3, 3, 3, 3, 3, 3, 3, 3, 3, 3, 3, 3, 3,\n",
              "       3, 3, 3, 3, 3, 4, 4, 4, 4, 4, 4, 4, 4, 4, 4, 4, 4, 4, 4, 4, 4, 4,\n",
              "       4, 4, 4, 4, 4, 4, 4, 4, 4, 4, 4, 4, 4, 4, 4, 4, 4, 4, 4, 4, 4, 4,\n",
              "       4, 4, 4, 4, 4, 4, 4, 4, 4, 4, 4, 4, 4, 4, 4, 4, 4, 4, 4, 4, 4, 5,\n",
              "       5, 5, 5, 5, 5, 5, 5, 5, 5, 5, 5, 5, 5, 5, 5, 5, 5, 5, 5, 5, 5, 5,\n",
              "       5, 5, 5, 5, 5, 5, 5, 5, 5, 5, 5, 5, 5, 5, 5, 5, 5, 5, 5, 5, 5, 5,\n",
              "       5, 5, 5, 5, 5, 5, 5, 5, 5, 5, 6, 6, 6, 6, 6, 6, 6, 6, 6, 6, 6, 6,\n",
              "       6, 6, 6, 6, 6, 6, 6, 6, 6, 6, 6, 6, 6, 6, 6, 6, 6, 6, 6, 6, 6, 6,\n",
              "       6, 6, 6, 6, 6, 6, 7, 7, 7, 7, 7, 7, 7, 7, 7, 7, 7, 7, 7, 7, 8, 8,\n",
              "       8, 8])"
            ]
          },
          "metadata": {},
          "execution_count": 64
        }
      ]
    },
    {
      "cell_type": "code",
      "source": [
        "w_5, s_5 = nws(m,h)"
      ],
      "metadata": {
        "id": "-YimPNiUeb8O",
        "colab": {
          "base_uri": "https://localhost:8080/"
        },
        "outputId": "a688c48e-73f7-4d57-ad02-a1186fd431e7"
      },
      "execution_count": null,
      "outputs": [
        {
          "output_type": "stream",
          "name": "stdout",
          "text": [
            "n =  [0, 2, 6, 19, 60, 55, 40, 14, 4, 0, 0]\n",
            "w =  [0.0, 0.01, 0.03, 0.095, 0.3, 0.275, 0.2, 0.07, 0.02, 0.0, 0.0]\n",
            "s =  [0.0, 0.01, 0.04, 0.135, 0.435, 0.71, 0.91, 0.98, 1.0, 1.0, 1.0]\n"
          ]
        }
      ]
    },
    {
      "cell_type": "code",
      "source": [
        "p_k5 = [0]*(m+1)\n",
        "det = math.comb(M, m)\n",
        "M_K = M - K\n",
        "for i in range(m+1):\n",
        "  p_k5[i] = np.round((math.comb(K, i)*math.comb(M_K,m-i))/det,5)\n",
        "print('p_k = ', p_k5) "
      ],
      "metadata": {
        "id": "Vl5nKGuReb_V",
        "colab": {
          "base_uri": "https://localhost:8080/"
        },
        "outputId": "c09c3aa7-4c3c-4bcd-8dd9-c0eae5207a98"
      },
      "execution_count": null,
      "outputs": [
        {
          "output_type": "stream",
          "name": "stdout",
          "text": [
            "p_k =  [6e-05, 0.00212, 0.0238, 0.11422, 0.26652, 0.31983, 0.19989, 0.06346, 0.00952, 0.00058, 1e-05]\n"
          ]
        }
      ]
    },
    {
      "cell_type": "code",
      "source": [
        "polygon(w_5,p_k5,m+1)"
      ],
      "metadata": {
        "id": "LVjX6tQdecBz",
        "colab": {
          "base_uri": "https://localhost:8080/",
          "height": 324
        },
        "outputId": "d8afcfa8-3c59-4cd5-badf-26dc436b1d1f"
      },
      "execution_count": null,
      "outputs": [
        {
          "output_type": "display_data",
          "data": {
            "text/plain": [
              "<Figure size 720x360 with 1 Axes>"
            ],
            "image/png": "[encoded data removed]"
          },
          "metadata": {
            "needs_background": "light"
          }
        }
      ]
    },
    {
      "cell_type": "code",
      "source": [
        "emp_func(m+1,s_5)"
      ],
      "metadata": {
        "id": "0_QRC61deoC5",
        "colab": {
          "base_uri": "https://localhost:8080/",
          "height": 374
        },
        "outputId": "5acdf1b0-2af5-40a5-da5d-05c1c4c66c9d"
      },
      "execution_count": null,
      "outputs": [
        {
          "output_type": "display_data",
          "data": {
            "text/plain": [
              "<Figure size 720x432 with 1 Axes>"
            ],
            "image/png": "[encoded data removed]"
          },
          "metadata": {
            "needs_background": "light"
          }
        }
      ]
    },
    {
      "cell_type": "code",
      "source": [
        "practic = find(h)\n",
        "practic"
      ],
      "metadata": {
        "id": "Cr9ejqgPeoFR",
        "colab": {
          "base_uri": "https://localhost:8080/"
        },
        "outputId": "a52b87ed-c5dd-4c09-ea3b-0487d28c5285"
      },
      "execution_count": null,
      "outputs": [
        {
          "output_type": "execute_result",
          "data": {
            "text/plain": [
              "array([ 4.78   ,  1.7216 ,  1.3121 ,  4.     ,  5.     , -0.02793,\n",
              "        0.10137])"
            ]
          },
          "metadata": {},
          "execution_count": 69
        }
      ]
    },
    {
      "cell_type": "code",
      "source": [
        "theory = find_hypergeom(p_k5,m,M,K,M_K)\n",
        "theory"
      ],
      "metadata": {
        "id": "VmdC5KQheoIy",
        "colab": {
          "base_uri": "https://localhost:8080/"
        },
        "outputId": "04cefec9-82cd-4bac-9abf-cb47c293edfa"
      },
      "execution_count": null,
      "outputs": [
        {
          "output_type": "execute_result",
          "data": {
            "text/plain": [
              "array([4.78261, 1.47448, 1.21428, 5.     , 5.     , 0.00512, 3.28309])"
            ]
          },
          "metadata": {},
          "execution_count": 70
        }
      ]
    },
    {
      "cell_type": "code",
      "source": [
        "abs = division(theory,practic)\n",
        "abs"
      ],
      "metadata": {
        "id": "Tp5uRG10ecEe",
        "colab": {
          "base_uri": "https://localhost:8080/"
        },
        "outputId": "6e7fb80c-57d0-4c1f-eb81-1ca20ffd378e"
      },
      "execution_count": null,
      "outputs": [
        {
          "output_type": "execute_result",
          "data": {
            "text/plain": [
              "array([2.61000e-03, 2.47120e-01, 9.78200e-02, 1.00000e+00, 0.00000e+00,\n",
              "       3.30500e-02, 3.18171e+00])"
            ]
          },
          "metadata": {},
          "execution_count": 71
        }
      ]
    },
    {
      "cell_type": "code",
      "source": [
        "rel = comparison(abs,theory)\n",
        "rel"
      ],
      "metadata": {
        "id": "dCrcka3mecH2",
        "colab": {
          "base_uri": "https://localhost:8080/"
        },
        "outputId": "2822864f-ee3f-40f9-aa65-f877bbb9f723"
      },
      "execution_count": null,
      "outputs": [
        {
          "output_type": "execute_result",
          "data": {
            "text/plain": [
              "array([5.50000e-04, 1.67600e-01, 8.05600e-02, 2.00000e-01, 0.00000e+00,\n",
              "       6.46125e+00, 9.69120e-01])"
            ]
          },
          "metadata": {},
          "execution_count": 72
        }
      ]
    },
    {
      "cell_type": "code",
      "source": [
        "w_p = division(w_5,p_k5)\n",
        "w_p"
      ],
      "metadata": {
        "id": "fudhG8Mee2eK",
        "colab": {
          "base_uri": "https://localhost:8080/"
        },
        "outputId": "6d26c40a-86dc-4ec9-a63b-63ddcb92306d"
      },
      "execution_count": null,
      "outputs": [
        {
          "output_type": "execute_result",
          "data": {
            "text/plain": [
              "array([6.000e-05, 7.880e-03, 6.200e-03, 1.922e-02, 3.348e-02, 4.483e-02,\n",
              "       1.100e-04, 6.540e-03, 1.048e-02, 5.800e-04, 1.000e-05])"
            ]
          },
          "metadata": {},
          "execution_count": 73
        }
      ]
    },
    {
      "cell_type": "markdown",
      "source": [
        "#Непрерывные "
      ],
      "metadata": {
        "id": "5vHUjx8oaHgE"
      }
    },
    {
      "cell_type": "code",
      "source": [],
      "metadata": {
        "id": "NmwzRCY9j1C2"
      },
      "execution_count": null,
      "outputs": []
    },
    {
      "cell_type": "code",
      "source": [
        "# Интервальный ряд\n",
        "def detIntervals(arr, a0, am):\n",
        "  #  формула Стерджеса\n",
        "  N = 1+int(np.log2(200))\n",
        "  intervals = []\n",
        "  # a0 = arr[0]\n",
        "  # am = arr[-1]\n",
        "  ak = (am-a0)/N\n",
        "  last = a0\n",
        "  for k in range(N):\n",
        "    bk = last + ak\n",
        "    intervals.append([last, bk])\n",
        "    last = bk\n",
        "  return intervals"
      ],
      "metadata": {
        "id": "Ez_jPM8laK6S"
      },
      "execution_count": null,
      "outputs": []
    },
    {
      "cell_type": "code",
      "source": [
        "# Число попаданий значений в i-ый интервал и относительная частота попаданий\n",
        "def detCountIntervals(arr, intervals):\n",
        "  ni = []\n",
        "  interval = intervals[0]    \n",
        "  ni.insert(0, \n",
        "      len(list(filter(lambda x: interval[0]-1 < x <= interval[1], arr)))\n",
        "  )\n",
        "  for i in range(1, len(intervals)-1):\n",
        "    interval = intervals[i]\n",
        "    ni.append(len(list(filter(lambda x: interval[0] < x <= interval[1], arr))))\n",
        "  interval = intervals[-1]   \n",
        "  ni.append(len(list(filter(lambda x: interval[0] < x < interval[1]+1, arr))))\n",
        "  wi = list(map(lambda x: x/200, ni))\n",
        "  return ni, wi"
      ],
      "metadata": {
        "id": "1-VvC_fiHyhU"
      },
      "execution_count": null,
      "outputs": []
    },
    {
      "cell_type": "code",
      "source": [
        "# Ассоциативный ряд\n",
        "def associativeSeries(intervals):\n",
        "  arr = []\n",
        "  for interval in intervals:\n",
        "    arr.append((interval[0]+interval[1])/2)\n",
        "  return arr"
      ],
      "metadata": {
        "id": "rPoNd5VqRdmN"
      },
      "execution_count": null,
      "outputs": []
    },
    {
      "cell_type": "code",
      "source": [
        "# Эмпирическая функция распределения\n",
        "# x должен быть изначально отсортирован!\n",
        "def ECDF(x):\n",
        "    n = len(x)\n",
        "    def _ecdf(v):\n",
        "        # side='right' -> Pr(x <= v)\n",
        "        return (np.searchsorted(x, v, side='right') + 1) / n\n",
        "    return _ecdf"
      ],
      "metadata": {
        "id": "uMCE5nc4f_oa"
      },
      "execution_count": null,
      "outputs": []
    },
    {
      "cell_type": "code",
      "source": [
        "# Выборочный момент k-го порядка\n",
        "def selectedMoment(w, associative, k):\n",
        "  res = 0\n",
        "  for i in range(len(associative)):\n",
        "    res += associative[i]**k * w[i]\n",
        "  return res"
      ],
      "metadata": {
        "id": "rca4J7K5uTNw"
      },
      "execution_count": null,
      "outputs": []
    },
    {
      "cell_type": "code",
      "source": [
        "# Выборочный центральный момент k-ого порядка\n",
        "def selectedCentralMoment(w, associative, k):\n",
        "  u1 = selectedMoment(w, associative, 1)\n",
        "  res = 0\n",
        "  for i in range(len(associative)):\n",
        "    res += (associative[i] - u1)**k * w[i]\n",
        "  return res"
      ],
      "metadata": {
        "id": "sSuOoBwQvkkY"
      },
      "execution_count": null,
      "outputs": []
    },
    {
      "cell_type": "code",
      "source": [
        "def histogram(intervals,dist,m):\n",
        "  plt.figure(figsize=(10,5))\n",
        "  plt.title(\"Гистограмма относительных частот\")\n",
        "  h_ = intervals[0][1] - intervals[0][0]\n",
        "  n_bins = [intervals[i][0] for i in range(m)]\n",
        "  n_bins.append(intervals[-1][1])\n",
        "  plt.hist(dist, edgecolor='black', bins = n_bins, weights = (np.ones_like(dist)/len(dist))/h_)\n",
        "  plt.show()"
      ],
      "metadata": {
        "id": "-wJry-wVp3wo"
      },
      "execution_count": null,
      "outputs": []
    },
    {
      "cell_type": "code",
      "source": [
        "def interf(x, a, sigma):\n",
        "  return 1/2 * (erf((x-a)/(sigma*np.sqrt(2))))"
      ],
      "metadata": {
        "id": "Z4KadJYWyEYA"
      },
      "execution_count": null,
      "outputs": []
    },
    {
      "cell_type": "code",
      "source": [
        "# Ф расп норм\n",
        "def PHI(intervals, a, sigma):\n",
        "  arr = []\n",
        "  for interval in intervals:\n",
        "    arr.append(interf(interval[1], a, sigma)-interf(interval[0], a, sigma))\n",
        "  return arr"
      ],
      "metadata": {
        "id": "SEseX2hnvVgj"
      },
      "execution_count": null,
      "outputs": []
    },
    {
      "cell_type": "code",
      "source": [
        "def Fexp(intervals, lmbd):\n",
        "  arr = []\n",
        "  for interval in intervals:\n",
        "    arr.append(np.exp(-lmbd*interval[0])-np.exp(-lmbd*interval[1]))\n",
        "  return arr\n",
        "  "
      ],
      "metadata": {
        "id": "hmb7V8iNzhd7"
      },
      "execution_count": null,
      "outputs": []
    },
    {
      "cell_type": "code",
      "source": [
        "def Funi(intervals, det):\n",
        "  arr = []\n",
        "  for interval in intervals:\n",
        "    arr.append((interval[1]-interval[0])/det)\n",
        "  return arr"
      ],
      "metadata": {
        "id": "Tp04LdzX1ZeT"
      },
      "execution_count": null,
      "outputs": []
    },
    {
      "cell_type": "code",
      "source": [
        "def find_norm(a,sigma):\n",
        "  return np.array([a, sigma**2, sigma, a, a, 0, 0])"
      ],
      "metadata": {
        "id": "a-oN3Vzff8YS"
      },
      "execution_count": null,
      "outputs": []
    },
    {
      "cell_type": "code",
      "source": [
        "def find_exp(lamda):\n",
        "  lamda_1 = 1/ lamda\n",
        "  return np.array([lamda_1, lamda_1**2, lamda_1, 0, lamda_1*np.log10(2), 2, 6])"
      ],
      "metadata": {
        "id": "i_PDXkpqga5E"
      },
      "execution_count": null,
      "outputs": []
    },
    {
      "cell_type": "code",
      "source": [
        "def find_uni(a, b):\n",
        "  _x = 0.5*(a + b)\n",
        "  _d = (b-a)**2 / 12\n",
        "  return np.array([_x, _d, np.sqrt(_d), _x, _x, 0, -1.2])"
      ],
      "metadata": {
        "id": "f9P0i-X3g6jP"
      },
      "execution_count": null,
      "outputs": []
    },
    {
      "cell_type": "markdown",
      "source": [
        "## Выборочная мода"
      ],
      "metadata": {
        "id": "6mQ6UJFRql6Y"
      }
    },
    {
      "cell_type": "code",
      "source": [
        "def sequence(N):\n",
        "  for i in range(len(N)-1):\n",
        "    if N[i+1] != N[i] + 1:\n",
        "      return False\n",
        "  return True     "
      ],
      "metadata": {
        "id": "GtO_YclscpoP"
      },
      "execution_count": null,
      "outputs": []
    },
    {
      "cell_type": "code",
      "source": [
        "def findModa(intervals, w,_h, N):\n",
        "  max_index = [i for i,j in enumerate(w) if j == np.max(w)]\n",
        "  _len = len(max_index)\n",
        "  if sequence(max_index) == False:\n",
        "    return None\n",
        "    # print('Моды не существует')\n",
        "  else:\n",
        "    _i = max_index[0]\n",
        "    w_i1 = w[(_i-1)%N]\n",
        "    if _len == 1:\n",
        "      _il = 0\n",
        "      w_il = w[_i]\n",
        "    else:\n",
        "      _il = max_index[-1]\n",
        "      w_il = w[_il] \n",
        "    M0 = intervals[_i][0] + _len*_h*(w_il - w_i1) / (2*w_il - w_i1 - w[(_il+1)%N])\n",
        "    return M0"
      ],
      "metadata": {
        "id": "FRC_sO7VAn6S"
      },
      "execution_count": null,
      "outputs": []
    },
    {
      "cell_type": "markdown",
      "source": [
        "## Выборочная медиана"
      ],
      "metadata": {
        "id": "1JQcgl4XqnvQ"
      }
    },
    {
      "cell_type": "code",
      "source": [
        "def selectedMedian(w, N, h, intervals):\n",
        "  _sum = w[0]\n",
        "  for i in range(1,N):\n",
        "    wk = _sum+w[i]\n",
        "    if wk == 0.5:\n",
        "      return intervals[i][0]\n",
        "    elif wk > 0.5:\n",
        "      return intervals[i-1][0] + h/w[i] * (0.5 - _sum)\n",
        "    _sum+=w[i]"
      ],
      "metadata": {
        "id": "TogFWggDVnWt"
      },
      "execution_count": null,
      "outputs": []
    },
    {
      "cell_type": "code",
      "source": [
        "def find6_8(dist, intervals, asintervals, w, N):\n",
        "  x_, d_, omega = find_part(dist)  #Выборочное среднее / Выборочная дисперсия / Выборочное СКО\n",
        "  _h = (intervals[-1][1]-intervals[0][0])/N # Поправка Шеппарда\n",
        "  d_-= _h**2 / 12\n",
        "  Me = selectedMedian(w, N, _h, intervals) #Выборочная медиана\n",
        "  M0 = findModa(intervals, w,_h, N) \n",
        "  gamma1 = selectedCentralMoment(w, asintervals, 3)/(omega**3) #Выборочный коэффициент асимметрии\n",
        "  gamma2 = selectedCentralMoment(w_norm, asintervals, 4)/(omega**4) -3 #Выборочный коэффициент эксцесса\n",
        "  return np.array([x_, d_, omega, Me,M0, gamma1, gamma2])\n"
      ],
      "metadata": {
        "id": "3vcuAS7QLmPy"
      },
      "execution_count": null,
      "outputs": []
    },
    {
      "cell_type": "markdown",
      "source": [
        "# Задание 6"
      ],
      "metadata": {
        "id": "jgL4DILRP84F"
      }
    },
    {
      "cell_type": "code",
      "source": [
        "# Where loc represents the mean for shifting the distribution \n",
        "# and scale is the standard deviation to change the shape of the distribution.\n",
        "#  norm = np.random.normal(loc=0.0, scale=1.0, size=200)\n",
        "# norm = np.random.normal(loc=a_norm, scale=sgm_norm, size=200)\n",
        "norm"
      ],
      "metadata": {
        "id": "vl-E9EeiUzj1",
        "colab": {
          "base_uri": "https://localhost:8080/"
        },
        "outputId": "12d26b54-ba83-4c9a-9b0b-4786de55b81a"
      },
      "execution_count": null,
      "outputs": [
        {
          "output_type": "execute_result",
          "data": {
            "text/plain": [
              "array([ 1.93332,  2.34811,  1.37399,  0.91647,  0.85489,  2.01387,\n",
              "        2.58798,  2.35665,  0.99388,  1.74495,  4.59744,  2.18214,\n",
              "        0.88102,  0.4544 ,  3.55721,  1.86034,  1.25789,  1.50105,\n",
              "        1.84223,  2.16804,  2.72787,  3.054  ,  0.72162,  2.54152,\n",
              "        3.01513,  1.37822, -0.13917,  2.15641,  2.27392,  4.08883,\n",
              "        3.27007,  1.44133,  2.61928,  1.91146,  2.08354,  2.55718,\n",
              "        1.24313,  1.59327,  2.18246,  2.42624,  1.85232, -0.57326,\n",
              "       -0.05758, -0.74924,  1.01183,  2.4568 ,  1.08104,  4.04999,\n",
              "        1.4895 ,  2.13964,  1.72508,  4.18135,  1.71972,  1.82832,\n",
              "        3.03418,  2.37806,  2.83496, -0.69183,  3.10486,  1.73805,\n",
              "        2.30592,  1.74201,  3.82937,  3.8667 ,  2.1073 ,  1.88393,\n",
              "        0.43334,  3.33938,  2.40185,  1.10553,  3.38773,  0.86964,\n",
              "        2.2496 ,  1.69601,  2.29315,  1.45818,  3.18553,  3.66405,\n",
              "        0.23629, -1.21842,  2.45655,  1.42146,  2.4555 ,  2.04316,\n",
              "        1.22186,  3.09786,  1.60997,  0.47627,  1.14172,  1.76214,\n",
              "        2.00305,  3.46958,  1.25892,  3.53913,  2.63397,  3.18272,\n",
              "        1.44961,  1.64043,  1.15505,  2.20689,  1.65604,  0.96038,\n",
              "        3.22606,  2.89231,  1.31   ,  4.63458, -0.86481,  2.02323,\n",
              "        0.75966,  0.75176,  0.9221 ,  1.55595,  2.62232,  1.66184,\n",
              "        0.53293,  1.60708,  2.85604,  2.29405,  0.82954,  3.04783,\n",
              "        1.23723,  3.65452,  1.27584,  1.71487, -0.22839,  2.60347,\n",
              "        1.06609,  3.49483,  2.97606,  4.40434,  1.47616,  1.75735,\n",
              "        3.72   ,  2.97041,  3.52053,  1.43882,  1.63124,  3.09252,\n",
              "        1.84523,  1.28343,  0.49397,  2.26179,  2.69201,  1.85416,\n",
              "        1.76089,  2.64516, -0.41486,  4.52518,  2.39114,  3.04524,\n",
              "        2.68173,  2.11782,  4.43016,  0.61501,  3.47558,  1.43553,\n",
              "        1.301  ,  3.60388,  1.11685,  0.65727,  4.06908,  1.47487,\n",
              "        0.96516,  1.34925,  0.47684,  1.7811 ,  4.42106,  3.2999 ,\n",
              "        1.62646,  1.73942,  2.60718,  2.18514,  2.5377 ,  3.10615,\n",
              "        2.7912 ,  0.60303,  2.48034,  3.26639, -0.70442,  1.70624,\n",
              "        2.25145,  2.24081,  1.8881 ,  2.26648,  0.69008,  3.66249,\n",
              "        0.33104,  4.22551,  2.76658,  1.81617,  1.14728,  4.2067 ,\n",
              "        1.9487 ,  3.00111,  0.51314,  0.24209,  0.27787,  2.51601,\n",
              "        2.39042,  1.68821])"
            ]
          },
          "metadata": {},
          "execution_count": 92
        }
      ]
    },
    {
      "cell_type": "code",
      "source": [
        "norm.sort()\n",
        "norm"
      ],
      "metadata": {
        "id": "vyiuKuwP8LM2",
        "colab": {
          "base_uri": "https://localhost:8080/"
        },
        "outputId": "6792d188-5d64-4d63-c099-fa48a7b53d3d"
      },
      "execution_count": null,
      "outputs": [
        {
          "output_type": "execute_result",
          "data": {
            "text/plain": [
              "array([-1.21842, -0.86481, -0.74924, -0.70442, -0.69183, -0.57326,\n",
              "       -0.41486, -0.22839, -0.13917, -0.05758,  0.23629,  0.24209,\n",
              "        0.27787,  0.33104,  0.43334,  0.4544 ,  0.47627,  0.47684,\n",
              "        0.49397,  0.51314,  0.53293,  0.60303,  0.61501,  0.65727,\n",
              "        0.69008,  0.72162,  0.75176,  0.75966,  0.82954,  0.85489,\n",
              "        0.86964,  0.88102,  0.91647,  0.9221 ,  0.96038,  0.96516,\n",
              "        0.99388,  1.01183,  1.06609,  1.08104,  1.10553,  1.11685,\n",
              "        1.14172,  1.14728,  1.15505,  1.22186,  1.23723,  1.24313,\n",
              "        1.25789,  1.25892,  1.27584,  1.28343,  1.301  ,  1.31   ,\n",
              "        1.34925,  1.37399,  1.37822,  1.42146,  1.43553,  1.43882,\n",
              "        1.44133,  1.44961,  1.45818,  1.47487,  1.47616,  1.4895 ,\n",
              "        1.50105,  1.55595,  1.59327,  1.60708,  1.60997,  1.62646,\n",
              "        1.63124,  1.64043,  1.65604,  1.66184,  1.68821,  1.69601,\n",
              "        1.70624,  1.71487,  1.71972,  1.72508,  1.73805,  1.73942,\n",
              "        1.74201,  1.74495,  1.75735,  1.76089,  1.76214,  1.7811 ,\n",
              "        1.81617,  1.82832,  1.84223,  1.84523,  1.85232,  1.85416,\n",
              "        1.86034,  1.88393,  1.8881 ,  1.91146,  1.93332,  1.9487 ,\n",
              "        2.00305,  2.01387,  2.02323,  2.04316,  2.08354,  2.1073 ,\n",
              "        2.11782,  2.13964,  2.15641,  2.16804,  2.18214,  2.18246,\n",
              "        2.18514,  2.20689,  2.24081,  2.2496 ,  2.25145,  2.26179,\n",
              "        2.26648,  2.27392,  2.29315,  2.29405,  2.30592,  2.34811,\n",
              "        2.35665,  2.37806,  2.39042,  2.39114,  2.40185,  2.42624,\n",
              "        2.4555 ,  2.45655,  2.4568 ,  2.48034,  2.51601,  2.5377 ,\n",
              "        2.54152,  2.55718,  2.58798,  2.60347,  2.60718,  2.61928,\n",
              "        2.62232,  2.63397,  2.64516,  2.68173,  2.69201,  2.72787,\n",
              "        2.76658,  2.7912 ,  2.83496,  2.85604,  2.89231,  2.97041,\n",
              "        2.97606,  3.00111,  3.01513,  3.03418,  3.04524,  3.04783,\n",
              "        3.054  ,  3.09252,  3.09786,  3.10486,  3.10615,  3.18272,\n",
              "        3.18553,  3.22606,  3.26639,  3.27007,  3.2999 ,  3.33938,\n",
              "        3.38773,  3.46958,  3.47558,  3.49483,  3.52053,  3.53913,\n",
              "        3.55721,  3.60388,  3.65452,  3.66249,  3.66405,  3.72   ,\n",
              "        3.82937,  3.8667 ,  4.04999,  4.06908,  4.08883,  4.18135,\n",
              "        4.2067 ,  4.22551,  4.40434,  4.42106,  4.43016,  4.52518,\n",
              "        4.59744,  4.63458])"
            ]
          },
          "metadata": {},
          "execution_count": 93
        }
      ]
    },
    {
      "cell_type": "code",
      "source": [
        "intervals_norm = np.round(detIntervals(norm, norm[0], norm[-1]),5) # Интервальный ряд\n",
        "asintervals_norm = np.round(associativeSeries(intervals_norm),5) # Ассоциативный ряд\n",
        "print(intervals_norm, '\\n', asintervals_norm) \n",
        "n_norm, w_norm = detCountIntervals(norm, intervals_norm) # ni wi\n",
        "print(n_norm,sum(n_norm))\n",
        "print(w_norm,sum(w_norm))\n",
        "\n",
        "N = len(n_norm)"
      ],
      "metadata": {
        "id": "jpr1wNjDFEbU",
        "colab": {
          "base_uri": "https://localhost:8080/"
        },
        "outputId": "7943d358-4bef-424d-c5ac-9ce18bf65c2e"
      },
      "execution_count": null,
      "outputs": [
        {
          "output_type": "stream",
          "name": "stdout",
          "text": [
            "[[-1.21842 -0.48679]\n",
            " [-0.48679  0.24483]\n",
            " [ 0.24483  0.97646]\n",
            " [ 0.97646  1.70808]\n",
            " [ 1.70808  2.43971]\n",
            " [ 2.43971  3.17133]\n",
            " [ 3.17133  3.90295]\n",
            " [ 3.90295  4.63458]] \n",
            " [-0.8526  -0.12098  0.61064  1.34227  2.07389  2.80552  3.53714  4.26876]\n",
            "[6, 6, 24, 43, 53, 35, 21, 12] 200\n",
            "[0.03, 0.03, 0.12, 0.215, 0.265, 0.175, 0.105, 0.06] 1.00000\n"
          ]
        }
      ]
    },
    {
      "cell_type": "code",
      "source": [
        "phi = PHI(intervals_norm, a_norm, sgm_norm)\n",
        "print(phi, sum(phi))"
      ],
      "metadata": {
        "colab": {
          "base_uri": "https://localhost:8080/"
        },
        "id": "9TNQI8RYwQBF",
        "outputId": "0b2fd008-6502-4973-9c62-7d93b44fd5ea"
      },
      "execution_count": null,
      "outputs": [
        {
          "output_type": "stream",
          "name": "stdout",
          "text": [
            "[0.015458580551919232, 0.05266515658574056, 0.12506078835293305, 0.20705589632164628, 0.23907660364801359, 0.19251859276050173, 0.10811210274193289, 0.042328815766793815] 0.98228\n"
          ]
        }
      ]
    },
    {
      "cell_type": "code",
      "source": [
        "division(phi, w_norm)"
      ],
      "metadata": {
        "colab": {
          "base_uri": "https://localhost:8080/"
        },
        "id": "i7RCNDkNwbZR",
        "outputId": "237f2cbe-7ab4-4abf-ea91-8263d270ce4d"
      },
      "execution_count": null,
      "outputs": [
        {
          "output_type": "execute_result",
          "data": {
            "text/plain": [
              "array([0.01454, 0.02267, 0.00506, 0.00794, 0.02592, 0.01752, 0.00311,\n",
              "       0.01767])"
            ]
          },
          "metadata": {},
          "execution_count": 96
        }
      ]
    },
    {
      "cell_type": "markdown",
      "source": [
        "Гистограмма относительных частот"
      ],
      "metadata": {
        "id": "yTxZgbeKhsqq"
      }
    },
    {
      "cell_type": "code",
      "source": [
        "histogram(intervals_norm,norm,N)"
      ],
      "metadata": {
        "id": "qhoOEqz_VWmh",
        "colab": {
          "base_uri": "https://localhost:8080/",
          "height": 336
        },
        "outputId": "80a71deb-6457-4b2a-ed5a-263a1c7b4387"
      },
      "execution_count": null,
      "outputs": [
        {
          "output_type": "display_data",
          "data": {
            "text/plain": [
              "<Figure size 720x360 with 1 Axes>"
            ],
            "image/png": "[encoded data removed]"
          },
          "metadata": {
            "needs_background": "light"
          }
        }
      ]
    },
    {
      "cell_type": "markdown",
      "source": [
        "Эмпирическая функция распределения"
      ],
      "metadata": {
        "id": "JiBu5ZVphq6M"
      }
    },
    {
      "cell_type": "code",
      "source": [
        "Fn = ECDF(norm)"
      ],
      "metadata": {
        "id": "48dPqjIngLg2"
      },
      "execution_count": null,
      "outputs": []
    },
    {
      "cell_type": "code",
      "source": [
        "plt.plot(asintervals_norm, Fn(asintervals_norm), marker=\"o\", markerfacecolor='none')\n",
        "plt.yticks(np.arange(0,1.05, 0.05))\n",
        "plt.show()"
      ],
      "metadata": {
        "id": "GaVzDOFai02R",
        "colab": {
          "base_uri": "https://localhost:8080/",
          "height": 265
        },
        "outputId": "d801cd65-75ac-420b-dda8-58c984c18cc1"
      },
      "execution_count": null,
      "outputs": [
        {
          "output_type": "display_data",
          "data": {
            "text/plain": [
              "<Figure size 432x288 with 1 Axes>"
            ],
            "image/png": "[encoded data removed]"
          },
          "metadata": {
            "needs_background": "light"
          }
        }
      ]
    },
    {
      "cell_type": "code",
      "source": [
        "practic = find6_8(norm, intervals_norm, asintervals_norm, w_norm, N)\n",
        "practic"
      ],
      "metadata": {
        "id": "OAtMO_5FqaBn",
        "colab": {
          "base_uri": "https://localhost:8080/"
        },
        "outputId": "08c7bbf8-63a6-4455-b4c1-1a6fb331709f"
      },
      "execution_count": null,
      "outputs": [
        {
          "output_type": "execute_result",
          "data": {
            "text/plain": [
              "array([ 2.00472,  1.31917,  1.16781,  1.26635,  1.83644, -0.12246,\n",
              "       -0.13365])"
            ]
          },
          "metadata": {},
          "execution_count": 100
        }
      ]
    },
    {
      "cell_type": "code",
      "source": [
        "theory = find_norm(a_norm,sgm_norm)\n",
        "theory"
      ],
      "metadata": {
        "colab": {
          "base_uri": "https://localhost:8080/"
        },
        "id": "J_wnko_hKwSP",
        "outputId": "a8295ec1-c420-4706-d347-d8ed819cc5ee"
      },
      "execution_count": null,
      "outputs": [
        {
          "output_type": "execute_result",
          "data": {
            "text/plain": [
              "array([2.  , 1.44, 1.2 , 2.  , 2.  , 0.  , 0.  ])"
            ]
          },
          "metadata": {},
          "execution_count": 101
        }
      ]
    },
    {
      "cell_type": "code",
      "source": [
        "abs = division(practic, theory)\n",
        "abs"
      ],
      "metadata": {
        "colab": {
          "base_uri": "https://localhost:8080/"
        },
        "id": "iIG2N65WPMJv",
        "outputId": "848354b0-ede5-4037-a51f-1ecf93e2b512"
      },
      "execution_count": null,
      "outputs": [
        {
          "output_type": "execute_result",
          "data": {
            "text/plain": [
              "array([0.00472, 0.12083, 0.03219, 0.73365, 0.16356, 0.12246, 0.13365])"
            ]
          },
          "metadata": {},
          "execution_count": 102
        }
      ]
    },
    {
      "cell_type": "code",
      "source": [
        "rel = comparison(abs, theory)\n",
        "rel"
      ],
      "metadata": {
        "colab": {
          "base_uri": "https://localhost:8080/"
        },
        "id": "dc5MV0_yPRBw",
        "outputId": "51a247bf-db85-4fc7-f353-0744b80b9050"
      },
      "execution_count": null,
      "outputs": [
        {
          "output_type": "stream",
          "name": "stderr",
          "text": [
            "<ipython-input-13-3eee365a1ee5>:6: RuntimeWarning: divide by zero encountered in double_scalars\n",
            "  return np.round([np.absolute(i / j) for i, j in zip( arr_1, arr_2)],5)\n"
          ]
        },
        {
          "output_type": "execute_result",
          "data": {
            "text/plain": [
              "array([0.00236, 0.08391, 0.02683, 0.36682, 0.08178,     inf,     inf])"
            ]
          },
          "metadata": {},
          "execution_count": 103
        }
      ]
    },
    {
      "cell_type": "markdown",
      "source": [
        "# Задание 7"
      ],
      "metadata": {
        "id": "b0l1Tc52T3FY"
      }
    },
    {
      "cell_type": "code",
      "source": [
        "# A common parameterization for expon is in terms of the rate parameter lambda,\n",
        "# such that pdf = lambda * exp(-lambda * x). This parameterization corresponds to using scale = 1 / lambda.\n",
        "# lmbd = 2+(-1)**V * 0.001*V\n",
        "# exp = expon.rvs(size=200, scale=1/(lmbd))"
      ],
      "metadata": {
        "id": "_zYXjX92qbZJ"
      },
      "execution_count": null,
      "outputs": []
    },
    {
      "cell_type": "code",
      "source": [
        "exp"
      ],
      "metadata": {
        "id": "P5a-3A3om5lZ",
        "colab": {
          "base_uri": "https://localhost:8080/"
        },
        "outputId": "d38a0ab5-3e7c-4021-8d6f-725d477279b0"
      },
      "execution_count": null,
      "outputs": [
        {
          "output_type": "execute_result",
          "data": {
            "text/plain": [
              "array([6.79575e-01, 3.49725e-01, 9.19590e-01, 4.21735e-01, 1.22308e+00,\n",
              "       2.60734e-01, 5.38418e-01, 1.78594e-01, 2.45629e-01, 1.37191e-01,\n",
              "       2.82116e+00, 9.53177e-01, 4.90626e-01, 6.60111e-01, 1.88075e-01,\n",
              "       6.14269e-01, 4.21271e-01, 1.74184e-01, 1.02727e-01, 1.46863e-01,\n",
              "       3.99041e-02, 2.46426e-01, 2.04134e-02, 4.06315e-01, 1.47500e+00,\n",
              "       2.09907e-01, 2.77069e-02, 3.09844e-01, 2.91711e-01, 6.46090e-01,\n",
              "       1.69901e-02, 8.96957e-01, 8.57023e-02, 1.04350e+00, 4.83183e-01,\n",
              "       5.70690e-02, 1.24230e-01, 6.95725e-01, 3.16292e-01, 2.45280e-01,\n",
              "       1.46120e-01, 4.68781e-01, 1.52096e-01, 3.28582e-02, 1.87408e-02,\n",
              "       1.96413e-01, 3.90215e-01, 8.09516e-01, 4.99482e-01, 3.16481e-01,\n",
              "       1.58067e-01, 1.54015e-01, 1.23539e+00, 1.90699e-01, 7.07989e-01,\n",
              "       7.12650e-01, 5.87650e-01, 6.84606e-01, 4.24440e-01, 8.70771e-01,\n",
              "       4.62193e-01, 6.15805e-01, 8.01366e-01, 2.45785e-01, 3.80296e-01,\n",
              "       6.98959e-01, 5.06499e-03, 1.32556e+00, 4.55854e-01, 2.43125e-01,\n",
              "       4.36649e-01, 1.43103e-01, 1.39973e-01, 1.34265e-02, 3.68719e-01,\n",
              "       1.20444e-01, 6.56160e-01, 3.29794e-01, 2.27751e+00, 4.40577e-01,\n",
              "       6.52702e-02, 4.29849e-01, 5.81452e-01, 1.10966e-01, 6.20390e-02,\n",
              "       1.74210e-01, 4.43384e-01, 9.86346e-02, 2.68732e-01, 2.21559e-01,\n",
              "       1.40425e-01, 4.66399e-01, 1.37168e+00, 3.11065e-02, 4.23284e-01,\n",
              "       1.02340e+00, 9.03067e-01, 1.01749e-01, 2.10389e-01, 3.27804e-01,\n",
              "       8.35883e-01, 4.13584e-01, 7.30614e-01, 9.45475e-01, 3.34714e-01,\n",
              "       9.20759e-02, 1.88323e-01, 2.47450e-03, 4.65259e-01, 1.19903e-02,\n",
              "       4.05173e-01, 2.40211e-01, 4.09055e-01, 8.34659e-01, 1.79907e-01,\n",
              "       1.36057e+00, 7.58735e-02, 2.11121e-01, 4.27616e-01, 2.57779e-01,\n",
              "       9.38821e-02, 1.22086e-01, 7.68619e-02, 3.28334e-01, 1.08830e+00,\n",
              "       6.41646e-02, 9.68347e-01, 7.76099e-01, 8.78670e-01, 7.31363e-02,\n",
              "       4.39327e-02, 4.32692e-02, 4.14510e-01, 3.85198e-01, 1.26588e-01,\n",
              "       1.74708e+00, 8.69074e-01, 4.85659e-01, 2.29530e-01, 2.98640e-01,\n",
              "       1.46490e-01, 3.04707e+00, 1.04410e-01, 1.64567e+00, 1.15647e-01,\n",
              "       4.85470e-01, 7.64373e-01, 3.05717e-02, 5.93389e-01, 8.74391e-01,\n",
              "       6.44473e-01, 8.72805e-04, 4.02270e-02, 8.91471e-03, 2.07081e-01,\n",
              "       1.00817e-02, 1.56758e-01, 2.51034e-01, 3.29307e-02, 4.32404e-01,\n",
              "       9.17571e-01, 1.80307e-01, 2.70567e-02, 6.17009e-01, 5.78628e-01,\n",
              "       1.07384e+00, 3.06856e-01, 6.10806e-01, 8.56292e-01, 2.07215e-01,\n",
              "       1.73097e-01, 1.04997e+00, 3.45899e-02, 1.75823e+00, 4.79429e-01,\n",
              "       3.94838e-01, 7.50786e-02, 1.67639e-01, 5.42349e-01, 2.84582e-02,\n",
              "       7.26042e-01, 7.42159e-02, 1.66186e-01, 3.43446e-01, 8.01188e-01,\n",
              "       2.91328e-02, 9.37479e-01, 1.52690e-01, 2.36238e+00, 3.21115e-01,\n",
              "       2.65701e-01, 5.64684e-01, 1.87220e-01, 6.72551e-01, 1.03494e-01,\n",
              "       9.04687e-01, 1.16250e-01, 8.41815e-01, 5.64997e-02, 2.20546e-01])"
            ]
          },
          "metadata": {},
          "execution_count": 105
        }
      ]
    },
    {
      "cell_type": "code",
      "source": [
        "exp.sort()\n",
        "exp"
      ],
      "metadata": {
        "id": "0-yX6oYSUs83",
        "colab": {
          "base_uri": "https://localhost:8080/"
        },
        "outputId": "183f2f85-65c8-4f27-f8a6-258e5bfb5368"
      },
      "execution_count": null,
      "outputs": [
        {
          "output_type": "execute_result",
          "data": {
            "text/plain": [
              "array([8.72805e-04, 2.47450e-03, 5.06499e-03, 8.91471e-03, 1.00817e-02,\n",
              "       1.19903e-02, 1.34265e-02, 1.69901e-02, 1.87408e-02, 2.04134e-02,\n",
              "       2.70567e-02, 2.77069e-02, 2.84582e-02, 2.91328e-02, 3.05717e-02,\n",
              "       3.11065e-02, 3.28582e-02, 3.29307e-02, 3.45899e-02, 3.99041e-02,\n",
              "       4.02270e-02, 4.32692e-02, 4.39327e-02, 5.64997e-02, 5.70690e-02,\n",
              "       6.20390e-02, 6.41646e-02, 6.52702e-02, 7.31363e-02, 7.42159e-02,\n",
              "       7.50786e-02, 7.58735e-02, 7.68619e-02, 8.57023e-02, 9.20759e-02,\n",
              "       9.38821e-02, 9.86346e-02, 1.01749e-01, 1.02727e-01, 1.03494e-01,\n",
              "       1.04410e-01, 1.10966e-01, 1.15647e-01, 1.16250e-01, 1.20444e-01,\n",
              "       1.22086e-01, 1.24230e-01, 1.26588e-01, 1.37191e-01, 1.39973e-01,\n",
              "       1.40425e-01, 1.43103e-01, 1.46120e-01, 1.46490e-01, 1.46863e-01,\n",
              "       1.52096e-01, 1.52690e-01, 1.54015e-01, 1.56758e-01, 1.58067e-01,\n",
              "       1.66186e-01, 1.67639e-01, 1.73097e-01, 1.74184e-01, 1.74210e-01,\n",
              "       1.78594e-01, 1.79907e-01, 1.80307e-01, 1.87220e-01, 1.88075e-01,\n",
              "       1.88323e-01, 1.90699e-01, 1.96413e-01, 2.07081e-01, 2.07215e-01,\n",
              "       2.09907e-01, 2.10389e-01, 2.11121e-01, 2.20546e-01, 2.21559e-01,\n",
              "       2.29530e-01, 2.40211e-01, 2.43125e-01, 2.45280e-01, 2.45629e-01,\n",
              "       2.45785e-01, 2.46426e-01, 2.51034e-01, 2.57779e-01, 2.60734e-01,\n",
              "       2.65701e-01, 2.68732e-01, 2.91711e-01, 2.98640e-01, 3.06856e-01,\n",
              "       3.09844e-01, 3.16292e-01, 3.16481e-01, 3.21115e-01, 3.27804e-01,\n",
              "       3.28334e-01, 3.29794e-01, 3.34714e-01, 3.43446e-01, 3.49725e-01,\n",
              "       3.68719e-01, 3.80296e-01, 3.85198e-01, 3.90215e-01, 3.94838e-01,\n",
              "       4.05173e-01, 4.06315e-01, 4.09055e-01, 4.13584e-01, 4.14510e-01,\n",
              "       4.21271e-01, 4.21735e-01, 4.23284e-01, 4.24440e-01, 4.27616e-01,\n",
              "       4.29849e-01, 4.32404e-01, 4.36649e-01, 4.40577e-01, 4.43384e-01,\n",
              "       4.55854e-01, 4.62193e-01, 4.65259e-01, 4.66399e-01, 4.68781e-01,\n",
              "       4.79429e-01, 4.83183e-01, 4.85470e-01, 4.85659e-01, 4.90626e-01,\n",
              "       4.99482e-01, 5.38418e-01, 5.42349e-01, 5.64684e-01, 5.78628e-01,\n",
              "       5.81452e-01, 5.87650e-01, 5.93389e-01, 6.10806e-01, 6.14269e-01,\n",
              "       6.15805e-01, 6.17009e-01, 6.44473e-01, 6.46090e-01, 6.56160e-01,\n",
              "       6.60111e-01, 6.72551e-01, 6.79575e-01, 6.84606e-01, 6.95725e-01,\n",
              "       6.98959e-01, 7.07989e-01, 7.12650e-01, 7.26042e-01, 7.30614e-01,\n",
              "       7.64373e-01, 7.76099e-01, 8.01188e-01, 8.01366e-01, 8.09516e-01,\n",
              "       8.34659e-01, 8.35883e-01, 8.41815e-01, 8.56292e-01, 8.69074e-01,\n",
              "       8.70771e-01, 8.74391e-01, 8.78670e-01, 8.96957e-01, 9.03067e-01,\n",
              "       9.04687e-01, 9.17571e-01, 9.19590e-01, 9.37479e-01, 9.45475e-01,\n",
              "       9.53177e-01, 9.68347e-01, 1.02340e+00, 1.04350e+00, 1.04997e+00,\n",
              "       1.07384e+00, 1.08830e+00, 1.22308e+00, 1.23539e+00, 1.32556e+00,\n",
              "       1.36057e+00, 1.37168e+00, 1.47500e+00, 1.64567e+00, 1.74708e+00,\n",
              "       1.75823e+00, 2.27751e+00, 2.36238e+00, 2.82116e+00, 3.04707e+00])"
            ]
          },
          "metadata": {},
          "execution_count": 106
        }
      ]
    },
    {
      "cell_type": "code",
      "source": [
        "intervals_exp = detIntervals(exp, 0, exp[-1]) # Интервальный ряд\n",
        "asintervals_exp = associativeSeries(intervals_exp)\n",
        "print(intervals_exp, '\\n', asintervals_exp) # Ассоциативный ряд\n",
        "n_exp, w_exp = detCountIntervals(exp, intervals_exp) # ni wi\n",
        "print(n_exp, sum(n_exp))\n",
        "print(w_exp, sum(w_exp))\n",
        "\n",
        "N = len(n_exp)"
      ],
      "metadata": {
        "id": "u2N5RoX3uqf1",
        "colab": {
          "base_uri": "https://localhost:8080/"
        },
        "outputId": "e24a4502-9b52-4d60-912c-69ff13d2e615"
      },
      "execution_count": null,
      "outputs": [
        {
          "output_type": "stream",
          "name": "stdout",
          "text": [
            "[[0, 0.38088362127319153], [0.38088362127319153, 0.7617672425463831], [0.7617672425463831, 1.1426508638195747], [1.1426508638195747, 1.5235344850927661], [1.5235344850927661, 1.9044181063659575], [1.9044181063659575, 2.285301727639149], [2.285301727639149, 2.6661853489123404], [2.6661853489123404, 3.047068970185532]] \n",
            " [0.19044181063659577, 0.5713254319097874, 0.9522090531829789, 1.3330926744561704, 1.7139762957293618, 2.0948599170025535, 2.4757435382757444, 2.8566271595489363]\n",
            "[107, 53, 27, 6, 3, 1, 1, 2] 200\n",
            "[0.535, 0.265, 0.135, 0.03, 0.015, 0.005, 0.005, 0.01] 1.00000\n"
          ]
        }
      ]
    },
    {
      "cell_type": "code",
      "source": [
        "F_exp = Fexp(intervals_exp, lmbd)"
      ],
      "metadata": {
        "id": "IhKyvUJt0M4j"
      },
      "execution_count": null,
      "outputs": []
    },
    {
      "cell_type": "code",
      "source": [
        "print(F_exp, sum(F_exp))"
      ],
      "metadata": {
        "colab": {
          "base_uri": "https://localhost:8080/"
        },
        "id": "vMynK5B_0pQY",
        "outputId": "3a56a204-5dfd-4f49-9f84-e5359f078bfb"
      },
      "execution_count": null,
      "outputs": [
        {
          "output_type": "stream",
          "name": "stdout",
          "text": [
            "[0.5402178954099548, 0.24838252088879395, 0.11420183819763054, 0.05250796151455838, 0.024142221052896738, 0.011100161205178967, 0.005103655480205962, 0.002346569457791615] 0.99800\n"
          ]
        }
      ]
    },
    {
      "cell_type": "code",
      "source": [
        "division(F_exp, w_exp)"
      ],
      "metadata": {
        "colab": {
          "base_uri": "https://localhost:8080/"
        },
        "id": "EcurQvdk0MaR",
        "outputId": "f41d6ed6-9578-4e82-ef46-d41eb99cf067"
      },
      "execution_count": null,
      "outputs": [
        {
          "output_type": "execute_result",
          "data": {
            "text/plain": [
              "array([0.00522, 0.01662, 0.0208 , 0.02251, 0.00914, 0.0061 , 0.0001 ,\n",
              "       0.00765])"
            ]
          },
          "metadata": {},
          "execution_count": 110
        }
      ]
    },
    {
      "cell_type": "code",
      "source": [
        "histogram(intervals_exp,exp,N)"
      ],
      "metadata": {
        "id": "49EOGMcmu6yh",
        "colab": {
          "base_uri": "https://localhost:8080/",
          "height": 336
        },
        "outputId": "673ca758-29dc-49f2-e749-729c6528ea63"
      },
      "execution_count": null,
      "outputs": [
        {
          "output_type": "display_data",
          "data": {
            "text/plain": [
              "<Figure size 720x360 with 1 Axes>"
            ],
            "image/png": "[encoded data removed]"
          },
          "metadata": {
            "needs_background": "light"
          }
        }
      ]
    },
    {
      "cell_type": "code",
      "source": [
        "Fn = ECDF(exp)\n",
        "plt.plot(asintervals_exp, Fn(asintervals_exp), marker=\"o\", markerfacecolor='none')\n",
        "plt.yticks(np.arange(0,1.05, 0.05))\n",
        "plt.show()"
      ],
      "metadata": {
        "id": "SoEH43JqvD6A",
        "colab": {
          "base_uri": "https://localhost:8080/",
          "height": 265
        },
        "outputId": "aa082eec-6157-40ee-ef33-6191d675ac84"
      },
      "execution_count": null,
      "outputs": [
        {
          "output_type": "display_data",
          "data": {
            "text/plain": [
              "<Figure size 432x288 with 1 Axes>"
            ],
            "image/png": "[encoded data removed]"
          },
          "metadata": {
            "needs_background": "light"
          }
        }
      ]
    },
    {
      "cell_type": "code",
      "source": [
        "practic = find6_8(exp, intervals_exp, asintervals_exp, w_exp, N)\n",
        "practic"
      ],
      "metadata": {
        "colab": {
          "base_uri": "https://localhost:8080/"
        },
        "id": "boPlNbAXnyWh",
        "outputId": "0be2c3b4-9ab0-4764-a474-385cf0729994"
      },
      "execution_count": null,
      "outputs": [
        {
          "output_type": "execute_result",
          "data": {
            "text/plain": [
              "array([ 0.46296,  0.21888,  0.48059, -0.05031,  0.25153,  2.08353,\n",
              "        4.34047])"
            ]
          },
          "metadata": {},
          "execution_count": 113
        }
      ]
    },
    {
      "cell_type": "code",
      "source": [
        "theory = find_exp(lmbd)\n",
        "theory"
      ],
      "metadata": {
        "colab": {
          "base_uri": "https://localhost:8080/"
        },
        "id": "hvdGTkEtnyZh",
        "outputId": "6c19d741-88c1-4ff7-bb62-149483c3a604"
      },
      "execution_count": null,
      "outputs": [
        {
          "output_type": "execute_result",
          "data": {
            "text/plain": [
              "array([0.4902 , 0.24029, 0.4902 , 0.     , 0.14756, 2.     , 6.     ])"
            ]
          },
          "metadata": {},
          "execution_count": 114
        }
      ]
    },
    {
      "cell_type": "code",
      "source": [
        "abs = division(practic, theory)\n",
        "abs"
      ],
      "metadata": {
        "colab": {
          "base_uri": "https://localhost:8080/"
        },
        "outputId": "64c58360-5db8-42a5-8924-ba9ca96557e1",
        "id": "lmNikRdVoHhK"
      },
      "execution_count": null,
      "outputs": [
        {
          "output_type": "execute_result",
          "data": {
            "text/plain": [
              "array([0.02723, 0.02141, 0.0096 , 0.05031, 0.10396, 0.08353, 1.65953])"
            ]
          },
          "metadata": {},
          "execution_count": 115
        }
      ]
    },
    {
      "cell_type": "code",
      "source": [
        "rel = comparison(abs, theory)\n",
        "rel"
      ],
      "metadata": {
        "colab": {
          "base_uri": "https://localhost:8080/"
        },
        "outputId": "ab3b86df-2591-4bdc-f3af-9cfb88c44227",
        "id": "nkVaGERJoHhL"
      },
      "execution_count": null,
      "outputs": [
        {
          "output_type": "stream",
          "name": "stderr",
          "text": [
            "<ipython-input-13-3eee365a1ee5>:6: RuntimeWarning: divide by zero encountered in double_scalars\n",
            "  return np.round([np.absolute(i / j) for i, j in zip( arr_1, arr_2)],5)\n"
          ]
        },
        {
          "output_type": "execute_result",
          "data": {
            "text/plain": [
              "array([0.05555, 0.0891 , 0.01958,     inf, 0.70451, 0.04176, 0.27659])"
            ]
          },
          "metadata": {},
          "execution_count": 116
        }
      ]
    },
    {
      "cell_type": "markdown",
      "source": [
        "# Задание 8"
      ],
      "metadata": {
        "id": "-CCLNS5lT426"
      }
    },
    {
      "cell_type": "code",
      "source": [
        "# a = (-1.0)**V*0.002*V\n",
        "# ab = a+ 6\n",
        "# uni = uniform.rvs(size=200, loc=a, scale=6)"
      ],
      "metadata": {
        "id": "Bsb8nDITXFpo"
      },
      "execution_count": null,
      "outputs": []
    },
    {
      "cell_type": "code",
      "source": [
        "uni"
      ],
      "metadata": {
        "id": "nSBvWc27nCTu",
        "colab": {
          "base_uri": "https://localhost:8080/"
        },
        "outputId": "0fba0217-9d20-4645-d7f0-95ff75813afb"
      },
      "execution_count": null,
      "outputs": [
        {
          "output_type": "execute_result",
          "data": {
            "text/plain": [
              "array([2.02029, 3.63627, 5.2347 , 3.92482, 3.14689, 3.37498, 2.79071,\n",
              "       0.63385, 5.99781, 2.93822, 4.13714, 0.29724, 3.10507, 4.93977,\n",
              "       5.50795, 1.99584, 5.30898, 1.27289, 2.11298, 4.75179, 0.76083,\n",
              "       2.50418, 1.15602, 1.21335, 3.16599, 5.89443, 1.34389, 3.66639,\n",
              "       3.27487, 3.54719, 5.69109, 3.16334, 1.93389, 1.8453 , 3.79542,\n",
              "       4.59999, 5.57233, 0.85288, 3.45765, 1.89889, 5.7413 , 5.30134,\n",
              "       5.72287, 5.78302, 4.06465, 2.95693, 1.58371, 3.21427, 2.29343,\n",
              "       3.59037, 5.22011, 1.18373, 0.09044, 3.30368, 0.53304, 5.35844,\n",
              "       3.72799, 1.734  , 4.8139 , 4.5004 , 4.44754, 2.39862, 6.02337,\n",
              "       0.18572, 1.35482, 0.95359, 5.17354, 3.65471, 0.09408, 1.06602,\n",
              "       3.03234, 1.6004 , 4.59794, 2.83277, 3.55159, 2.99645, 1.61122,\n",
              "       3.27322, 4.36392, 2.21998, 1.12957, 5.36062, 0.10901, 0.89364,\n",
              "       0.32469, 5.24418, 2.72921, 3.08443, 2.06951, 1.92147, 4.02781,\n",
              "       2.34657, 5.92155, 1.04728, 3.20735, 0.64604, 1.53561, 3.57225,\n",
              "       4.21228, 3.71429, 2.64776, 2.62035, 2.54728, 2.17945, 4.91859,\n",
              "       5.42567, 0.22275, 3.7457 , 2.00673, 0.73785, 0.69879, 2.53694,\n",
              "       0.57184, 1.22863, 4.77624, 0.32823, 3.11761, 5.75361, 0.38997,\n",
              "       5.48765, 3.40055, 3.6619 , 2.09504, 0.11445, 2.15337, 4.12735,\n",
              "       5.18506, 3.67084, 5.90143, 1.34836, 1.14644, 2.25324, 4.17775,\n",
              "       3.00437, 5.85508, 0.41128, 5.02926, 5.76813, 5.55242, 1.72649,\n",
              "       0.50674, 4.72994, 2.54026, 5.02465, 4.80091, 4.2849 , 4.10651,\n",
              "       2.44016, 4.10427, 3.95679, 1.52334, 2.01334, 3.91824, 3.63242,\n",
              "       3.76155, 5.02263, 4.11768, 6.02753, 5.19273, 3.04026, 1.95206,\n",
              "       5.01128, 1.18481, 1.64911, 1.49337, 5.63118, 4.46056, 1.26147,\n",
              "       5.55146, 4.95498, 4.77989, 1.75929, 2.33384, 2.90537, 1.9756 ,\n",
              "       2.60642, 4.90255, 5.84149, 1.35914, 0.87263, 0.86531, 1.2941 ,\n",
              "       5.25668, 0.48312, 1.90652, 0.4789 , 3.79139, 0.31152, 3.20861,\n",
              "       0.45884, 0.72298, 3.02805, 4.16155, 3.24671, 2.76982, 1.33389,\n",
              "       4.60693, 2.86332, 2.4789 , 5.74271])"
            ]
          },
          "metadata": {},
          "execution_count": 118
        }
      ]
    },
    {
      "cell_type": "code",
      "source": [
        "uni.sort()\n",
        "uni"
      ],
      "metadata": {
        "id": "ElUazetAUbjL",
        "colab": {
          "base_uri": "https://localhost:8080/"
        },
        "outputId": "f32abf68-d176-43d2-dc03-61dbd2019fd4"
      },
      "execution_count": null,
      "outputs": [
        {
          "output_type": "execute_result",
          "data": {
            "text/plain": [
              "array([0.09044, 0.09408, 0.10901, 0.11445, 0.18572, 0.22275, 0.29724,\n",
              "       0.31152, 0.32469, 0.32823, 0.38997, 0.41128, 0.45884, 0.4789 ,\n",
              "       0.48312, 0.50674, 0.53304, 0.57184, 0.63385, 0.64604, 0.69879,\n",
              "       0.72298, 0.73785, 0.76083, 0.85288, 0.86531, 0.87263, 0.89364,\n",
              "       0.95359, 1.04728, 1.06602, 1.12957, 1.14644, 1.15602, 1.18373,\n",
              "       1.18481, 1.21335, 1.22863, 1.26147, 1.27289, 1.2941 , 1.33389,\n",
              "       1.34389, 1.34836, 1.35482, 1.35914, 1.49337, 1.52334, 1.53561,\n",
              "       1.58371, 1.6004 , 1.61122, 1.64911, 1.72649, 1.734  , 1.75929,\n",
              "       1.8453 , 1.89889, 1.90652, 1.92147, 1.93389, 1.95206, 1.9756 ,\n",
              "       1.99584, 2.00673, 2.01334, 2.02029, 2.06951, 2.09504, 2.11298,\n",
              "       2.15337, 2.17945, 2.21998, 2.25324, 2.29343, 2.33384, 2.34657,\n",
              "       2.39862, 2.44016, 2.4789 , 2.50418, 2.53694, 2.54026, 2.54728,\n",
              "       2.60642, 2.62035, 2.64776, 2.72921, 2.76982, 2.79071, 2.83277,\n",
              "       2.86332, 2.90537, 2.93822, 2.95693, 2.99645, 3.00437, 3.02805,\n",
              "       3.03234, 3.04026, 3.08443, 3.10507, 3.11761, 3.14689, 3.16334,\n",
              "       3.16599, 3.20735, 3.20861, 3.21427, 3.24671, 3.27322, 3.27487,\n",
              "       3.30368, 3.37498, 3.40055, 3.45765, 3.54719, 3.55159, 3.57225,\n",
              "       3.59037, 3.63242, 3.63627, 3.65471, 3.6619 , 3.66639, 3.67084,\n",
              "       3.71429, 3.72799, 3.7457 , 3.76155, 3.79139, 3.79542, 3.91824,\n",
              "       3.92482, 3.95679, 4.02781, 4.06465, 4.10427, 4.10651, 4.11768,\n",
              "       4.12735, 4.13714, 4.16155, 4.17775, 4.21228, 4.2849 , 4.36392,\n",
              "       4.44754, 4.46056, 4.5004 , 4.59794, 4.59999, 4.60693, 4.72994,\n",
              "       4.75179, 4.77624, 4.77989, 4.80091, 4.8139 , 4.90255, 4.91859,\n",
              "       4.93977, 4.95498, 5.01128, 5.02263, 5.02465, 5.02926, 5.17354,\n",
              "       5.18506, 5.19273, 5.22011, 5.2347 , 5.24418, 5.25668, 5.30134,\n",
              "       5.30898, 5.35844, 5.36062, 5.42567, 5.48765, 5.50795, 5.55146,\n",
              "       5.55242, 5.57233, 5.63118, 5.69109, 5.72287, 5.7413 , 5.74271,\n",
              "       5.75361, 5.76813, 5.78302, 5.84149, 5.85508, 5.89443, 5.90143,\n",
              "       5.92155, 5.99781, 6.02337, 6.02753])"
            ]
          },
          "metadata": {},
          "execution_count": 119
        }
      ]
    },
    {
      "cell_type": "code",
      "source": [
        "intervals_uni = detIntervals(uni, a_uni, a_uni+6) # Интервальный ряд\n",
        "asintervals_uni = associativeSeries(intervals_uni)\n",
        "print(intervals_uni, '\\n', asintervals_uni) # Ассоциативный ряд\n",
        "n_uni, w_uni = detCountIntervals(uni, intervals_uni) # ni wi\n",
        "print(n_uni, sum(n_uni))\n",
        "print(w_uni, sum(w_uni))\n",
        "\n",
        "N = len(n_uni)"
      ],
      "metadata": {
        "id": "bOeJFKbWFhP6",
        "colab": {
          "base_uri": "https://localhost:8080/"
        },
        "outputId": "b5ece605-e94c-456f-9d67-9e6b749e1566"
      },
      "execution_count": null,
      "outputs": [
        {
          "output_type": "stream",
          "name": "stdout",
          "text": [
            "[[0.08, 0.83], [0.83, 1.58], [1.58, 2.33], [2.33, 3.08], [3.08, 3.83], [3.83, 4.58], [4.58, 5.33], [5.33, 6.08]] \n",
            " [0.45499999999999996, 1.205, 1.955, 2.705, 3.455, 4.205, 4.955, 5.705]\n",
            "[24, 25, 26, 25, 32, 18, 26, 24] 200\n",
            "[0.12, 0.125, 0.13, 0.125, 0.16, 0.09, 0.13, 0.12] 1.00000\n"
          ]
        }
      ]
    },
    {
      "cell_type": "code",
      "source": [
        "F_uni = Funi(intervals_uni, 6)"
      ],
      "metadata": {
        "id": "1xArY-Fh13gG"
      },
      "execution_count": null,
      "outputs": []
    },
    {
      "cell_type": "code",
      "source": [
        "print(F_uni, sum(F_uni))"
      ],
      "metadata": {
        "colab": {
          "base_uri": "https://localhost:8080/"
        },
        "id": "FbHASB0u2A4U",
        "outputId": "cf6c6577-f65d-4474-ef42-6f7a2a54a5cd"
      },
      "execution_count": null,
      "outputs": [
        {
          "output_type": "stream",
          "name": "stdout",
          "text": [
            "[0.125, 0.12500000000000003, 0.125, 0.125, 0.125, 0.125, 0.125, 0.125] 1.00000\n"
          ]
        }
      ]
    },
    {
      "cell_type": "code",
      "source": [
        "division(F_uni, w_uni)"
      ],
      "metadata": {
        "colab": {
          "base_uri": "https://localhost:8080/"
        },
        "id": "WXKzkc-s2Bkb",
        "outputId": "cf7d36ec-2fe5-4e14-e81c-b4ce2dca5529"
      },
      "execution_count": null,
      "outputs": [
        {
          "output_type": "execute_result",
          "data": {
            "text/plain": [
              "array([0.005, 0.   , 0.005, 0.   , 0.035, 0.035, 0.005, 0.005])"
            ]
          },
          "metadata": {},
          "execution_count": 123
        }
      ]
    },
    {
      "cell_type": "code",
      "source": [
        "histogram(intervals_uni,uni,N)"
      ],
      "metadata": {
        "id": "I8PhXRhhlzet",
        "colab": {
          "base_uri": "https://localhost:8080/",
          "height": 336
        },
        "outputId": "963f8c20-3683-4a8b-ef17-ae69ebdd3715"
      },
      "execution_count": null,
      "outputs": [
        {
          "output_type": "display_data",
          "data": {
            "text/plain": [
              "<Figure size 720x360 with 1 Axes>"
            ],
            "image/png": "[encoded data removed]"
          },
          "metadata": {
            "needs_background": "light"
          }
        }
      ]
    },
    {
      "cell_type": "code",
      "source": [
        "Fn = ECDF(uni)\n",
        "plt.plot(asintervals_uni, Fn(asintervals_uni), marker=\"o\", markerfacecolor='none')\n",
        "plt.yticks(np.arange(0,1.05, 0.05))\n",
        "plt.show()"
      ],
      "metadata": {
        "id": "R9WY4vltmGZe",
        "colab": {
          "base_uri": "https://localhost:8080/",
          "height": 269
        },
        "outputId": "aee52dbf-2bda-42e5-be2d-2ad540d4d977"
      },
      "execution_count": null,
      "outputs": [
        {
          "output_type": "display_data",
          "data": {
            "text/plain": [
              "<Figure size 432x288 with 1 Axes>"
            ],
            "image/png": "[encoded data removed]"
          },
          "metadata": {
            "needs_background": "light"
          }
        }
      ]
    },
    {
      "cell_type": "code",
      "source": [
        "practic = find6_8(uni, intervals_uni, asintervals_uni, w_uni, N)\n",
        "practic"
      ],
      "metadata": {
        "colab": {
          "base_uri": "https://localhost:8080/"
        },
        "outputId": "9e467004-7941-48ed-9340-02817c1cf3eb",
        "id": "JtioGyeXqABK"
      },
      "execution_count": null,
      "outputs": [
        {
          "output_type": "execute_result",
          "data": {
            "text/plain": [
              "array([ 3.05239,  2.90266,  1.71742,  2.33   ,  3.455  ,  0.03385,\n",
              "       -2.32329])"
            ]
          },
          "metadata": {},
          "execution_count": 126
        }
      ]
    },
    {
      "cell_type": "code",
      "source": [
        "theory = find_uni(a_uni, a_uni+6)\n",
        "theory"
      ],
      "metadata": {
        "colab": {
          "base_uri": "https://localhost:8080/"
        },
        "outputId": "e7ef4d86-10e1-41e0-d1a5-e4959b361ecb",
        "id": "WwG44kUrqABL"
      },
      "execution_count": null,
      "outputs": [
        {
          "output_type": "execute_result",
          "data": {
            "text/plain": [
              "array([ 3.08   ,  3.     ,  1.73205,  3.08   ,  3.08   ,  0.     ,\n",
              "       -1.2    ])"
            ]
          },
          "metadata": {},
          "execution_count": 127
        }
      ]
    },
    {
      "cell_type": "code",
      "source": [
        "abs = division(practic, theory)\n",
        "abs"
      ],
      "metadata": {
        "colab": {
          "base_uri": "https://localhost:8080/"
        },
        "outputId": "ff48b137-94f6-4138-b8d1-42b44bb5e263",
        "id": "Z4DATMS8qABL"
      },
      "execution_count": null,
      "outputs": [
        {
          "output_type": "execute_result",
          "data": {
            "text/plain": [
              "array([0.02761, 0.09734, 0.01463, 0.75   , 0.375  , 0.03385, 1.12329])"
            ]
          },
          "metadata": {},
          "execution_count": 128
        }
      ]
    },
    {
      "cell_type": "code",
      "source": [
        "rel = comparison(abs, theory)\n",
        "rel"
      ],
      "metadata": {
        "colab": {
          "base_uri": "https://localhost:8080/"
        },
        "outputId": "bc64111a-c507-4b37-f171-652d7dfa8f18",
        "id": "u2q20eEJqABM"
      },
      "execution_count": null,
      "outputs": [
        {
          "output_type": "stream",
          "name": "stderr",
          "text": [
            "<ipython-input-13-3eee365a1ee5>:6: RuntimeWarning: divide by zero encountered in double_scalars\n",
            "  return np.round([np.absolute(i / j) for i, j in zip( arr_1, arr_2)],5)\n"
          ]
        },
        {
          "output_type": "execute_result",
          "data": {
            "text/plain": [
              "array([0.00896, 0.03245, 0.00845, 0.24351, 0.12175,     inf, 0.93608])"
            ]
          },
          "metadata": {},
          "execution_count": 129
        }
      ]
    }
  ]
}